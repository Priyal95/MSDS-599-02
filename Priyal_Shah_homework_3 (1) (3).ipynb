{
  "nbformat": 4,
  "nbformat_minor": 0,
  "metadata": {
    "colab": {
      "name": "Priyal Shah_homework 3.ipynb",
      "provenance": []
    },
    "kernelspec": {
      "name": "python3",
      "display_name": "Python 3"
    },
    "language_info": {
      "name": "python"
    }
  },
  "cells": [
    {
      "cell_type": "code",
      "execution_count": 1,
      "metadata": {
        "id": "2QzKFmrk3dfB"
      },
      "outputs": [],
      "source": [
        "import pandas as pd\n",
        "import numpy as np\n",
        "import matplotlib.pyplot as plt\n",
        "import seaborn as sns"
      ]
    },
    {
      "cell_type": "code",
      "source": [
        "from sklearn.model_selection import cross_validate\n",
        "from sklearn.model_selection import train_test_split\n",
        "from sklearn.metrics import mean_squared_error\n",
        "from sklearn import datasets\n",
        "from sklearn.metrics import accuracy_score"
      ],
      "metadata": {
        "id": "rb1VycYo3gXp"
      },
      "execution_count": 3,
      "outputs": []
    },
    {
      "cell_type": "code",
      "source": [
        "from sklearn import tree\n",
        "from sklearn.tree import DecisionTreeRegressor\n",
        "from sklearn.tree import DecisionTreeClassifier\n",
        "from sklearn.tree import export_text"
      ],
      "metadata": {
        "id": "ki4h_O73DmYd"
      },
      "execution_count": 4,
      "outputs": []
    },
    {
      "cell_type": "code",
      "source": [
        "from google.colab import drive\n",
        "drive.mount('/content/drive')"
      ],
      "metadata": {
        "colab": {
          "base_uri": "https://localhost:8080/"
        },
        "id": "I2QPWsB1Do1M",
        "outputId": "99b737a6-f84f-4360-cfa2-a0be77e9eecc"
      },
      "execution_count": 5,
      "outputs": [
        {
          "output_type": "stream",
          "name": "stdout",
          "text": [
            "Mounted at /content/drive\n"
          ]
        }
      ]
    },
    {
      "cell_type": "code",
      "source": [
        "data = pd.read_csv('/content/drive/MyDrive/Colab Notebooks/data/classify_me.csv')"
      ],
      "metadata": {
        "id": "Qn7EwhUhRvRK"
      },
      "execution_count": 6,
      "outputs": []
    },
    {
      "cell_type": "code",
      "source": [
        "data"
      ],
      "metadata": {
        "colab": {
          "base_uri": "https://localhost:8080/",
          "height": 423
        },
        "id": "yXFOPjJKbCgV",
        "outputId": "b532e2be-1434-486d-fc54-a38f22db7f9d"
      },
      "execution_count": 7,
      "outputs": [
        {
          "output_type": "execute_result",
          "data": {
            "text/plain": [
              "     Unnamed: 0         A         B         C         D         E         F  \\\n",
              "0             0  0.150333 -1.468600  0.420842 -0.878333 -1.348358  0.686323   \n",
              "1             1 -1.632086 -0.705800  0.336495  0.024062 -0.493619 -1.534829   \n",
              "2             2 -1.285627  1.381077 -0.385668  1.446167 -0.348163 -2.255813   \n",
              "3             3 -0.012135 -0.729971 -1.132579  1.076787  1.235348  1.234472   \n",
              "4             4 -1.303877  0.930213  0.801927 -1.750493  0.846840 -0.258996   \n",
              "..          ...       ...       ...       ...       ...       ...       ...   \n",
              "995         995  0.116215  0.066620  1.434035 -0.829447 -1.025267 -1.372505   \n",
              "996         996  0.495383  0.594304 -0.832994  0.846822  0.805704  0.582507   \n",
              "997         997  0.247019 -0.527071 -1.397361 -0.945972  0.486671 -0.925210   \n",
              "998         998  1.620174  1.143916  0.242528 -0.937797 -0.390179  0.217223   \n",
              "999         999  0.470652  1.930535  1.280377 -1.692538 -0.568220 -0.468802   \n",
              "\n",
              "            G         H         I         J  Target  \n",
              "0   -0.663374 -2.301067  1.302455  0.320666       2  \n",
              "1   -0.024577 -0.296786  0.320047  0.506105       1  \n",
              "2    0.272703 -0.964729 -1.515589  0.454248       2  \n",
              "3   -1.809369  0.735971 -1.349093 -0.061655       0  \n",
              "4   -0.507816  0.560169  0.583438 -0.472208       0  \n",
              "..        ...       ...       ...       ...     ...  \n",
              "995  0.787712  0.239583  1.422715 -0.249433       0  \n",
              "996 -0.476694 -0.181765 -1.017099  0.123959       1  \n",
              "997 -0.271900 -0.933125 -1.705268 -0.450054       0  \n",
              "998 -0.751655 -0.148348  0.042117  0.248499       1  \n",
              "999 -2.314393 -0.244379  0.550125  0.656077       2  \n",
              "\n",
              "[1000 rows x 12 columns]"
            ],
            "text/html": [
              "\n",
              "  <div id=\"df-5c656f4e-98b2-49e5-8ab8-30cd12b05256\">\n",
              "    <div class=\"colab-df-container\">\n",
              "      <div>\n",
              "<style scoped>\n",
              "    .dataframe tbody tr th:only-of-type {\n",
              "        vertical-align: middle;\n",
              "    }\n",
              "\n",
              "    .dataframe tbody tr th {\n",
              "        vertical-align: top;\n",
              "    }\n",
              "\n",
              "    .dataframe thead th {\n",
              "        text-align: right;\n",
              "    }\n",
              "</style>\n",
              "<table border=\"1\" class=\"dataframe\">\n",
              "  <thead>\n",
              "    <tr style=\"text-align: right;\">\n",
              "      <th></th>\n",
              "      <th>Unnamed: 0</th>\n",
              "      <th>A</th>\n",
              "      <th>B</th>\n",
              "      <th>C</th>\n",
              "      <th>D</th>\n",
              "      <th>E</th>\n",
              "      <th>F</th>\n",
              "      <th>G</th>\n",
              "      <th>H</th>\n",
              "      <th>I</th>\n",
              "      <th>J</th>\n",
              "      <th>Target</th>\n",
              "    </tr>\n",
              "  </thead>\n",
              "  <tbody>\n",
              "    <tr>\n",
              "      <th>0</th>\n",
              "      <td>0</td>\n",
              "      <td>0.150333</td>\n",
              "      <td>-1.468600</td>\n",
              "      <td>0.420842</td>\n",
              "      <td>-0.878333</td>\n",
              "      <td>-1.348358</td>\n",
              "      <td>0.686323</td>\n",
              "      <td>-0.663374</td>\n",
              "      <td>-2.301067</td>\n",
              "      <td>1.302455</td>\n",
              "      <td>0.320666</td>\n",
              "      <td>2</td>\n",
              "    </tr>\n",
              "    <tr>\n",
              "      <th>1</th>\n",
              "      <td>1</td>\n",
              "      <td>-1.632086</td>\n",
              "      <td>-0.705800</td>\n",
              "      <td>0.336495</td>\n",
              "      <td>0.024062</td>\n",
              "      <td>-0.493619</td>\n",
              "      <td>-1.534829</td>\n",
              "      <td>-0.024577</td>\n",
              "      <td>-0.296786</td>\n",
              "      <td>0.320047</td>\n",
              "      <td>0.506105</td>\n",
              "      <td>1</td>\n",
              "    </tr>\n",
              "    <tr>\n",
              "      <th>2</th>\n",
              "      <td>2</td>\n",
              "      <td>-1.285627</td>\n",
              "      <td>1.381077</td>\n",
              "      <td>-0.385668</td>\n",
              "      <td>1.446167</td>\n",
              "      <td>-0.348163</td>\n",
              "      <td>-2.255813</td>\n",
              "      <td>0.272703</td>\n",
              "      <td>-0.964729</td>\n",
              "      <td>-1.515589</td>\n",
              "      <td>0.454248</td>\n",
              "      <td>2</td>\n",
              "    </tr>\n",
              "    <tr>\n",
              "      <th>3</th>\n",
              "      <td>3</td>\n",
              "      <td>-0.012135</td>\n",
              "      <td>-0.729971</td>\n",
              "      <td>-1.132579</td>\n",
              "      <td>1.076787</td>\n",
              "      <td>1.235348</td>\n",
              "      <td>1.234472</td>\n",
              "      <td>-1.809369</td>\n",
              "      <td>0.735971</td>\n",
              "      <td>-1.349093</td>\n",
              "      <td>-0.061655</td>\n",
              "      <td>0</td>\n",
              "    </tr>\n",
              "    <tr>\n",
              "      <th>4</th>\n",
              "      <td>4</td>\n",
              "      <td>-1.303877</td>\n",
              "      <td>0.930213</td>\n",
              "      <td>0.801927</td>\n",
              "      <td>-1.750493</td>\n",
              "      <td>0.846840</td>\n",
              "      <td>-0.258996</td>\n",
              "      <td>-0.507816</td>\n",
              "      <td>0.560169</td>\n",
              "      <td>0.583438</td>\n",
              "      <td>-0.472208</td>\n",
              "      <td>0</td>\n",
              "    </tr>\n",
              "    <tr>\n",
              "      <th>...</th>\n",
              "      <td>...</td>\n",
              "      <td>...</td>\n",
              "      <td>...</td>\n",
              "      <td>...</td>\n",
              "      <td>...</td>\n",
              "      <td>...</td>\n",
              "      <td>...</td>\n",
              "      <td>...</td>\n",
              "      <td>...</td>\n",
              "      <td>...</td>\n",
              "      <td>...</td>\n",
              "      <td>...</td>\n",
              "    </tr>\n",
              "    <tr>\n",
              "      <th>995</th>\n",
              "      <td>995</td>\n",
              "      <td>0.116215</td>\n",
              "      <td>0.066620</td>\n",
              "      <td>1.434035</td>\n",
              "      <td>-0.829447</td>\n",
              "      <td>-1.025267</td>\n",
              "      <td>-1.372505</td>\n",
              "      <td>0.787712</td>\n",
              "      <td>0.239583</td>\n",
              "      <td>1.422715</td>\n",
              "      <td>-0.249433</td>\n",
              "      <td>0</td>\n",
              "    </tr>\n",
              "    <tr>\n",
              "      <th>996</th>\n",
              "      <td>996</td>\n",
              "      <td>0.495383</td>\n",
              "      <td>0.594304</td>\n",
              "      <td>-0.832994</td>\n",
              "      <td>0.846822</td>\n",
              "      <td>0.805704</td>\n",
              "      <td>0.582507</td>\n",
              "      <td>-0.476694</td>\n",
              "      <td>-0.181765</td>\n",
              "      <td>-1.017099</td>\n",
              "      <td>0.123959</td>\n",
              "      <td>1</td>\n",
              "    </tr>\n",
              "    <tr>\n",
              "      <th>997</th>\n",
              "      <td>997</td>\n",
              "      <td>0.247019</td>\n",
              "      <td>-0.527071</td>\n",
              "      <td>-1.397361</td>\n",
              "      <td>-0.945972</td>\n",
              "      <td>0.486671</td>\n",
              "      <td>-0.925210</td>\n",
              "      <td>-0.271900</td>\n",
              "      <td>-0.933125</td>\n",
              "      <td>-1.705268</td>\n",
              "      <td>-0.450054</td>\n",
              "      <td>0</td>\n",
              "    </tr>\n",
              "    <tr>\n",
              "      <th>998</th>\n",
              "      <td>998</td>\n",
              "      <td>1.620174</td>\n",
              "      <td>1.143916</td>\n",
              "      <td>0.242528</td>\n",
              "      <td>-0.937797</td>\n",
              "      <td>-0.390179</td>\n",
              "      <td>0.217223</td>\n",
              "      <td>-0.751655</td>\n",
              "      <td>-0.148348</td>\n",
              "      <td>0.042117</td>\n",
              "      <td>0.248499</td>\n",
              "      <td>1</td>\n",
              "    </tr>\n",
              "    <tr>\n",
              "      <th>999</th>\n",
              "      <td>999</td>\n",
              "      <td>0.470652</td>\n",
              "      <td>1.930535</td>\n",
              "      <td>1.280377</td>\n",
              "      <td>-1.692538</td>\n",
              "      <td>-0.568220</td>\n",
              "      <td>-0.468802</td>\n",
              "      <td>-2.314393</td>\n",
              "      <td>-0.244379</td>\n",
              "      <td>0.550125</td>\n",
              "      <td>0.656077</td>\n",
              "      <td>2</td>\n",
              "    </tr>\n",
              "  </tbody>\n",
              "</table>\n",
              "<p>1000 rows × 12 columns</p>\n",
              "</div>\n",
              "      <button class=\"colab-df-convert\" onclick=\"convertToInteractive('df-5c656f4e-98b2-49e5-8ab8-30cd12b05256')\"\n",
              "              title=\"Convert this dataframe to an interactive table.\"\n",
              "              style=\"display:none;\">\n",
              "        \n",
              "  <svg xmlns=\"http://www.w3.org/2000/svg\" height=\"24px\"viewBox=\"0 0 24 24\"\n",
              "       width=\"24px\">\n",
              "    <path d=\"M0 0h24v24H0V0z\" fill=\"none\"/>\n",
              "    <path d=\"M18.56 5.44l.94 2.06.94-2.06 2.06-.94-2.06-.94-.94-2.06-.94 2.06-2.06.94zm-11 1L8.5 8.5l.94-2.06 2.06-.94-2.06-.94L8.5 2.5l-.94 2.06-2.06.94zm10 10l.94 2.06.94-2.06 2.06-.94-2.06-.94-.94-2.06-.94 2.06-2.06.94z\"/><path d=\"M17.41 7.96l-1.37-1.37c-.4-.4-.92-.59-1.43-.59-.52 0-1.04.2-1.43.59L10.3 9.45l-7.72 7.72c-.78.78-.78 2.05 0 2.83L4 21.41c.39.39.9.59 1.41.59.51 0 1.02-.2 1.41-.59l7.78-7.78 2.81-2.81c.8-.78.8-2.07 0-2.86zM5.41 20L4 18.59l7.72-7.72 1.47 1.35L5.41 20z\"/>\n",
              "  </svg>\n",
              "      </button>\n",
              "      \n",
              "  <style>\n",
              "    .colab-df-container {\n",
              "      display:flex;\n",
              "      flex-wrap:wrap;\n",
              "      gap: 12px;\n",
              "    }\n",
              "\n",
              "    .colab-df-convert {\n",
              "      background-color: #E8F0FE;\n",
              "      border: none;\n",
              "      border-radius: 50%;\n",
              "      cursor: pointer;\n",
              "      display: none;\n",
              "      fill: #1967D2;\n",
              "      height: 32px;\n",
              "      padding: 0 0 0 0;\n",
              "      width: 32px;\n",
              "    }\n",
              "\n",
              "    .colab-df-convert:hover {\n",
              "      background-color: #E2EBFA;\n",
              "      box-shadow: 0px 1px 2px rgba(60, 64, 67, 0.3), 0px 1px 3px 1px rgba(60, 64, 67, 0.15);\n",
              "      fill: #174EA6;\n",
              "    }\n",
              "\n",
              "    [theme=dark] .colab-df-convert {\n",
              "      background-color: #3B4455;\n",
              "      fill: #D2E3FC;\n",
              "    }\n",
              "\n",
              "    [theme=dark] .colab-df-convert:hover {\n",
              "      background-color: #434B5C;\n",
              "      box-shadow: 0px 1px 3px 1px rgba(0, 0, 0, 0.15);\n",
              "      filter: drop-shadow(0px 1px 2px rgba(0, 0, 0, 0.3));\n",
              "      fill: #FFFFFF;\n",
              "    }\n",
              "  </style>\n",
              "\n",
              "      <script>\n",
              "        const buttonEl =\n",
              "          document.querySelector('#df-5c656f4e-98b2-49e5-8ab8-30cd12b05256 button.colab-df-convert');\n",
              "        buttonEl.style.display =\n",
              "          google.colab.kernel.accessAllowed ? 'block' : 'none';\n",
              "\n",
              "        async function convertToInteractive(key) {\n",
              "          const element = document.querySelector('#df-5c656f4e-98b2-49e5-8ab8-30cd12b05256');\n",
              "          const dataTable =\n",
              "            await google.colab.kernel.invokeFunction('convertToInteractive',\n",
              "                                                     [key], {});\n",
              "          if (!dataTable) return;\n",
              "\n",
              "          const docLinkHtml = 'Like what you see? Visit the ' +\n",
              "            '<a target=\"_blank\" href=https://colab.research.google.com/notebooks/data_table.ipynb>data table notebook</a>'\n",
              "            + ' to learn more about interactive tables.';\n",
              "          element.innerHTML = '';\n",
              "          dataTable['output_type'] = 'display_data';\n",
              "          await google.colab.output.renderOutput(dataTable, element);\n",
              "          const docLink = document.createElement('div');\n",
              "          docLink.innerHTML = docLinkHtml;\n",
              "          element.appendChild(docLink);\n",
              "        }\n",
              "      </script>\n",
              "    </div>\n",
              "  </div>\n",
              "  "
            ]
          },
          "metadata": {},
          "execution_count": 7
        }
      ]
    },
    {
      "cell_type": "markdown",
      "source": [
        "1. Read in this file. How many classes are there? How many features are there? Are there any missing entries? "
      ],
      "metadata": {
        "id": "2xLUJq037-z8"
      }
    },
    {
      "cell_type": "code",
      "source": [
        "data.drop(columns=['Unnamed: 0'], axis=1)"
      ],
      "metadata": {
        "colab": {
          "base_uri": "https://localhost:8080/",
          "height": 423
        },
        "id": "YUl-koImOcSG",
        "outputId": "537bf4ac-4d2b-4a45-842e-28fbec56a477"
      },
      "execution_count": 8,
      "outputs": [
        {
          "output_type": "execute_result",
          "data": {
            "text/plain": [
              "            A         B         C         D         E         F         G  \\\n",
              "0    0.150333 -1.468600  0.420842 -0.878333 -1.348358  0.686323 -0.663374   \n",
              "1   -1.632086 -0.705800  0.336495  0.024062 -0.493619 -1.534829 -0.024577   \n",
              "2   -1.285627  1.381077 -0.385668  1.446167 -0.348163 -2.255813  0.272703   \n",
              "3   -0.012135 -0.729971 -1.132579  1.076787  1.235348  1.234472 -1.809369   \n",
              "4   -1.303877  0.930213  0.801927 -1.750493  0.846840 -0.258996 -0.507816   \n",
              "..        ...       ...       ...       ...       ...       ...       ...   \n",
              "995  0.116215  0.066620  1.434035 -0.829447 -1.025267 -1.372505  0.787712   \n",
              "996  0.495383  0.594304 -0.832994  0.846822  0.805704  0.582507 -0.476694   \n",
              "997  0.247019 -0.527071 -1.397361 -0.945972  0.486671 -0.925210 -0.271900   \n",
              "998  1.620174  1.143916  0.242528 -0.937797 -0.390179  0.217223 -0.751655   \n",
              "999  0.470652  1.930535  1.280377 -1.692538 -0.568220 -0.468802 -2.314393   \n",
              "\n",
              "            H         I         J  Target  \n",
              "0   -2.301067  1.302455  0.320666       2  \n",
              "1   -0.296786  0.320047  0.506105       1  \n",
              "2   -0.964729 -1.515589  0.454248       2  \n",
              "3    0.735971 -1.349093 -0.061655       0  \n",
              "4    0.560169  0.583438 -0.472208       0  \n",
              "..        ...       ...       ...     ...  \n",
              "995  0.239583  1.422715 -0.249433       0  \n",
              "996 -0.181765 -1.017099  0.123959       1  \n",
              "997 -0.933125 -1.705268 -0.450054       0  \n",
              "998 -0.148348  0.042117  0.248499       1  \n",
              "999 -0.244379  0.550125  0.656077       2  \n",
              "\n",
              "[1000 rows x 11 columns]"
            ],
            "text/html": [
              "\n",
              "  <div id=\"df-5f4c010e-3676-4fc9-b00d-14d4c7ea3d71\">\n",
              "    <div class=\"colab-df-container\">\n",
              "      <div>\n",
              "<style scoped>\n",
              "    .dataframe tbody tr th:only-of-type {\n",
              "        vertical-align: middle;\n",
              "    }\n",
              "\n",
              "    .dataframe tbody tr th {\n",
              "        vertical-align: top;\n",
              "    }\n",
              "\n",
              "    .dataframe thead th {\n",
              "        text-align: right;\n",
              "    }\n",
              "</style>\n",
              "<table border=\"1\" class=\"dataframe\">\n",
              "  <thead>\n",
              "    <tr style=\"text-align: right;\">\n",
              "      <th></th>\n",
              "      <th>A</th>\n",
              "      <th>B</th>\n",
              "      <th>C</th>\n",
              "      <th>D</th>\n",
              "      <th>E</th>\n",
              "      <th>F</th>\n",
              "      <th>G</th>\n",
              "      <th>H</th>\n",
              "      <th>I</th>\n",
              "      <th>J</th>\n",
              "      <th>Target</th>\n",
              "    </tr>\n",
              "  </thead>\n",
              "  <tbody>\n",
              "    <tr>\n",
              "      <th>0</th>\n",
              "      <td>0.150333</td>\n",
              "      <td>-1.468600</td>\n",
              "      <td>0.420842</td>\n",
              "      <td>-0.878333</td>\n",
              "      <td>-1.348358</td>\n",
              "      <td>0.686323</td>\n",
              "      <td>-0.663374</td>\n",
              "      <td>-2.301067</td>\n",
              "      <td>1.302455</td>\n",
              "      <td>0.320666</td>\n",
              "      <td>2</td>\n",
              "    </tr>\n",
              "    <tr>\n",
              "      <th>1</th>\n",
              "      <td>-1.632086</td>\n",
              "      <td>-0.705800</td>\n",
              "      <td>0.336495</td>\n",
              "      <td>0.024062</td>\n",
              "      <td>-0.493619</td>\n",
              "      <td>-1.534829</td>\n",
              "      <td>-0.024577</td>\n",
              "      <td>-0.296786</td>\n",
              "      <td>0.320047</td>\n",
              "      <td>0.506105</td>\n",
              "      <td>1</td>\n",
              "    </tr>\n",
              "    <tr>\n",
              "      <th>2</th>\n",
              "      <td>-1.285627</td>\n",
              "      <td>1.381077</td>\n",
              "      <td>-0.385668</td>\n",
              "      <td>1.446167</td>\n",
              "      <td>-0.348163</td>\n",
              "      <td>-2.255813</td>\n",
              "      <td>0.272703</td>\n",
              "      <td>-0.964729</td>\n",
              "      <td>-1.515589</td>\n",
              "      <td>0.454248</td>\n",
              "      <td>2</td>\n",
              "    </tr>\n",
              "    <tr>\n",
              "      <th>3</th>\n",
              "      <td>-0.012135</td>\n",
              "      <td>-0.729971</td>\n",
              "      <td>-1.132579</td>\n",
              "      <td>1.076787</td>\n",
              "      <td>1.235348</td>\n",
              "      <td>1.234472</td>\n",
              "      <td>-1.809369</td>\n",
              "      <td>0.735971</td>\n",
              "      <td>-1.349093</td>\n",
              "      <td>-0.061655</td>\n",
              "      <td>0</td>\n",
              "    </tr>\n",
              "    <tr>\n",
              "      <th>4</th>\n",
              "      <td>-1.303877</td>\n",
              "      <td>0.930213</td>\n",
              "      <td>0.801927</td>\n",
              "      <td>-1.750493</td>\n",
              "      <td>0.846840</td>\n",
              "      <td>-0.258996</td>\n",
              "      <td>-0.507816</td>\n",
              "      <td>0.560169</td>\n",
              "      <td>0.583438</td>\n",
              "      <td>-0.472208</td>\n",
              "      <td>0</td>\n",
              "    </tr>\n",
              "    <tr>\n",
              "      <th>...</th>\n",
              "      <td>...</td>\n",
              "      <td>...</td>\n",
              "      <td>...</td>\n",
              "      <td>...</td>\n",
              "      <td>...</td>\n",
              "      <td>...</td>\n",
              "      <td>...</td>\n",
              "      <td>...</td>\n",
              "      <td>...</td>\n",
              "      <td>...</td>\n",
              "      <td>...</td>\n",
              "    </tr>\n",
              "    <tr>\n",
              "      <th>995</th>\n",
              "      <td>0.116215</td>\n",
              "      <td>0.066620</td>\n",
              "      <td>1.434035</td>\n",
              "      <td>-0.829447</td>\n",
              "      <td>-1.025267</td>\n",
              "      <td>-1.372505</td>\n",
              "      <td>0.787712</td>\n",
              "      <td>0.239583</td>\n",
              "      <td>1.422715</td>\n",
              "      <td>-0.249433</td>\n",
              "      <td>0</td>\n",
              "    </tr>\n",
              "    <tr>\n",
              "      <th>996</th>\n",
              "      <td>0.495383</td>\n",
              "      <td>0.594304</td>\n",
              "      <td>-0.832994</td>\n",
              "      <td>0.846822</td>\n",
              "      <td>0.805704</td>\n",
              "      <td>0.582507</td>\n",
              "      <td>-0.476694</td>\n",
              "      <td>-0.181765</td>\n",
              "      <td>-1.017099</td>\n",
              "      <td>0.123959</td>\n",
              "      <td>1</td>\n",
              "    </tr>\n",
              "    <tr>\n",
              "      <th>997</th>\n",
              "      <td>0.247019</td>\n",
              "      <td>-0.527071</td>\n",
              "      <td>-1.397361</td>\n",
              "      <td>-0.945972</td>\n",
              "      <td>0.486671</td>\n",
              "      <td>-0.925210</td>\n",
              "      <td>-0.271900</td>\n",
              "      <td>-0.933125</td>\n",
              "      <td>-1.705268</td>\n",
              "      <td>-0.450054</td>\n",
              "      <td>0</td>\n",
              "    </tr>\n",
              "    <tr>\n",
              "      <th>998</th>\n",
              "      <td>1.620174</td>\n",
              "      <td>1.143916</td>\n",
              "      <td>0.242528</td>\n",
              "      <td>-0.937797</td>\n",
              "      <td>-0.390179</td>\n",
              "      <td>0.217223</td>\n",
              "      <td>-0.751655</td>\n",
              "      <td>-0.148348</td>\n",
              "      <td>0.042117</td>\n",
              "      <td>0.248499</td>\n",
              "      <td>1</td>\n",
              "    </tr>\n",
              "    <tr>\n",
              "      <th>999</th>\n",
              "      <td>0.470652</td>\n",
              "      <td>1.930535</td>\n",
              "      <td>1.280377</td>\n",
              "      <td>-1.692538</td>\n",
              "      <td>-0.568220</td>\n",
              "      <td>-0.468802</td>\n",
              "      <td>-2.314393</td>\n",
              "      <td>-0.244379</td>\n",
              "      <td>0.550125</td>\n",
              "      <td>0.656077</td>\n",
              "      <td>2</td>\n",
              "    </tr>\n",
              "  </tbody>\n",
              "</table>\n",
              "<p>1000 rows × 11 columns</p>\n",
              "</div>\n",
              "      <button class=\"colab-df-convert\" onclick=\"convertToInteractive('df-5f4c010e-3676-4fc9-b00d-14d4c7ea3d71')\"\n",
              "              title=\"Convert this dataframe to an interactive table.\"\n",
              "              style=\"display:none;\">\n",
              "        \n",
              "  <svg xmlns=\"http://www.w3.org/2000/svg\" height=\"24px\"viewBox=\"0 0 24 24\"\n",
              "       width=\"24px\">\n",
              "    <path d=\"M0 0h24v24H0V0z\" fill=\"none\"/>\n",
              "    <path d=\"M18.56 5.44l.94 2.06.94-2.06 2.06-.94-2.06-.94-.94-2.06-.94 2.06-2.06.94zm-11 1L8.5 8.5l.94-2.06 2.06-.94-2.06-.94L8.5 2.5l-.94 2.06-2.06.94zm10 10l.94 2.06.94-2.06 2.06-.94-2.06-.94-.94-2.06-.94 2.06-2.06.94z\"/><path d=\"M17.41 7.96l-1.37-1.37c-.4-.4-.92-.59-1.43-.59-.52 0-1.04.2-1.43.59L10.3 9.45l-7.72 7.72c-.78.78-.78 2.05 0 2.83L4 21.41c.39.39.9.59 1.41.59.51 0 1.02-.2 1.41-.59l7.78-7.78 2.81-2.81c.8-.78.8-2.07 0-2.86zM5.41 20L4 18.59l7.72-7.72 1.47 1.35L5.41 20z\"/>\n",
              "  </svg>\n",
              "      </button>\n",
              "      \n",
              "  <style>\n",
              "    .colab-df-container {\n",
              "      display:flex;\n",
              "      flex-wrap:wrap;\n",
              "      gap: 12px;\n",
              "    }\n",
              "\n",
              "    .colab-df-convert {\n",
              "      background-color: #E8F0FE;\n",
              "      border: none;\n",
              "      border-radius: 50%;\n",
              "      cursor: pointer;\n",
              "      display: none;\n",
              "      fill: #1967D2;\n",
              "      height: 32px;\n",
              "      padding: 0 0 0 0;\n",
              "      width: 32px;\n",
              "    }\n",
              "\n",
              "    .colab-df-convert:hover {\n",
              "      background-color: #E2EBFA;\n",
              "      box-shadow: 0px 1px 2px rgba(60, 64, 67, 0.3), 0px 1px 3px 1px rgba(60, 64, 67, 0.15);\n",
              "      fill: #174EA6;\n",
              "    }\n",
              "\n",
              "    [theme=dark] .colab-df-convert {\n",
              "      background-color: #3B4455;\n",
              "      fill: #D2E3FC;\n",
              "    }\n",
              "\n",
              "    [theme=dark] .colab-df-convert:hover {\n",
              "      background-color: #434B5C;\n",
              "      box-shadow: 0px 1px 3px 1px rgba(0, 0, 0, 0.15);\n",
              "      filter: drop-shadow(0px 1px 2px rgba(0, 0, 0, 0.3));\n",
              "      fill: #FFFFFF;\n",
              "    }\n",
              "  </style>\n",
              "\n",
              "      <script>\n",
              "        const buttonEl =\n",
              "          document.querySelector('#df-5f4c010e-3676-4fc9-b00d-14d4c7ea3d71 button.colab-df-convert');\n",
              "        buttonEl.style.display =\n",
              "          google.colab.kernel.accessAllowed ? 'block' : 'none';\n",
              "\n",
              "        async function convertToInteractive(key) {\n",
              "          const element = document.querySelector('#df-5f4c010e-3676-4fc9-b00d-14d4c7ea3d71');\n",
              "          const dataTable =\n",
              "            await google.colab.kernel.invokeFunction('convertToInteractive',\n",
              "                                                     [key], {});\n",
              "          if (!dataTable) return;\n",
              "\n",
              "          const docLinkHtml = 'Like what you see? Visit the ' +\n",
              "            '<a target=\"_blank\" href=https://colab.research.google.com/notebooks/data_table.ipynb>data table notebook</a>'\n",
              "            + ' to learn more about interactive tables.';\n",
              "          element.innerHTML = '';\n",
              "          dataTable['output_type'] = 'display_data';\n",
              "          await google.colab.output.renderOutput(dataTable, element);\n",
              "          const docLink = document.createElement('div');\n",
              "          docLink.innerHTML = docLinkHtml;\n",
              "          element.appendChild(docLink);\n",
              "        }\n",
              "      </script>\n",
              "    </div>\n",
              "  </div>\n",
              "  "
            ]
          },
          "metadata": {},
          "execution_count": 8
        }
      ]
    },
    {
      "cell_type": "code",
      "source": [
        "len(data.columns)"
      ],
      "metadata": {
        "colab": {
          "base_uri": "https://localhost:8080/"
        },
        "id": "JNzsFK37a6Eo",
        "outputId": "4a6ed117-d1b1-421f-9224-301c8ec2e7a3"
      },
      "execution_count": 9,
      "outputs": [
        {
          "output_type": "execute_result",
          "data": {
            "text/plain": [
              "12"
            ]
          },
          "metadata": {},
          "execution_count": 9
        }
      ]
    },
    {
      "cell_type": "code",
      "source": [
        "print(data.isnull().sum())"
      ],
      "metadata": {
        "colab": {
          "base_uri": "https://localhost:8080/"
        },
        "id": "O8gqGv8CCC_r",
        "outputId": "076014ee-ce29-41f1-f0a4-5be819e3f0d1"
      },
      "execution_count": 10,
      "outputs": [
        {
          "output_type": "stream",
          "name": "stdout",
          "text": [
            "Unnamed: 0    0\n",
            "A             0\n",
            "B             0\n",
            "C             0\n",
            "D             0\n",
            "E             0\n",
            "F             0\n",
            "G             0\n",
            "H             0\n",
            "I             0\n",
            "J             0\n",
            "Target        0\n",
            "dtype: int64\n"
          ]
        }
      ]
    },
    {
      "cell_type": "markdown",
      "source": [
        "2. Split into training and test sets (30% test set). Use random_state=5 so your splits are reproducible. "
      ],
      "metadata": {
        "id": "N77nz2Ab_DkM"
      }
    },
    {
      "cell_type": "code",
      "source": [
        "X=data.drop('Target',axis=1)\n",
        "y=data['Target']"
      ],
      "metadata": {
        "id": "yyyC5cvEXacF"
      },
      "execution_count": 11,
      "outputs": []
    },
    {
      "cell_type": "code",
      "source": [
        "X_train, X_test, y_train, y_test = train_test_split(X,y,test_size=0.3, random_state=5)"
      ],
      "metadata": {
        "id": "Kbw8B5eeXW1x"
      },
      "execution_count": 12,
      "outputs": []
    },
    {
      "cell_type": "markdown",
      "source": [
        "3. Use all the features to build a classifier on the training set. Try bagging, random forest, boosting, and k-nearest neighbors. For knn, cross validate the number of neighbors you use. In your random forest implementation, build the trees deep -- that is, do not set a value for max_depth. For bagging and random forest,  cross validate the number of trees you use (given by the n_estimators parameter). For your boosting model, validate all of the parameters: n_estimators, learning_rate, and max_depth. In all three models, set random_state=5 so the results are reproducible.  "
      ],
      "metadata": {
        "id": "PFjhMflq7Ox8"
      }
    },
    {
      "cell_type": "code",
      "source": [
        "from sklearn.neighbors import KNeighborsRegressor\n",
        "from sklearn.model_selection import cross_validate"
      ],
      "metadata": {
        "id": "lxeoanubXYc_"
      },
      "execution_count": 13,
      "outputs": []
    },
    {
      "cell_type": "code",
      "source": [
        "knn_cv_results=[]\n",
        "for k in range(1,50):\n",
        "    knn_regressor = KNeighborsRegressor(n_neighbors=k)\n",
        "    cv_nn = cross_validate(knn_regressor, X_train, y_train, cv=5, scoring='r2')\n",
        "    knn_cv_results.append(cv_nn['test_score'].mean())"
      ],
      "metadata": {
        "id": "Ob9OSxYPXtDV"
      },
      "execution_count": 14,
      "outputs": []
    },
    {
      "cell_type": "code",
      "source": [
        "np.argmax(knn_cv_results)"
      ],
      "metadata": {
        "colab": {
          "base_uri": "https://localhost:8080/"
        },
        "id": "EAger6bhb7XE",
        "outputId": "22399bce-5d51-48b0-bee9-56346aaf6041"
      },
      "execution_count": 15,
      "outputs": [
        {
          "output_type": "execute_result",
          "data": {
            "text/plain": [
              "46"
            ]
          },
          "metadata": {},
          "execution_count": 15
        }
      ]
    },
    {
      "cell_type": "code",
      "source": [
        "knn_reg_model=KNeighborsRegressor(n_neighbors=46).fit(X_train, y_train)"
      ],
      "metadata": {
        "id": "CWWNh5wZesee"
      },
      "execution_count": 16,
      "outputs": []
    },
    {
      "cell_type": "code",
      "source": [
        "knn_reg_model.score(X_test,y_test)"
      ],
      "metadata": {
        "colab": {
          "base_uri": "https://localhost:8080/"
        },
        "id": "6XQphk4mexji",
        "outputId": "0384c2b3-e1ba-4dd3-b31c-aafe2465b036"
      },
      "execution_count": 17,
      "outputs": [
        {
          "output_type": "execute_result",
          "data": {
            "text/plain": [
              "-0.05577721786835821"
            ]
          },
          "metadata": {},
          "execution_count": 17
        }
      ]
    },
    {
      "cell_type": "markdown",
      "source": [
        "**The is R2 for the KNN model is -0.055**"
      ],
      "metadata": {
        "id": "JrBJur2AGqVu"
      }
    },
    {
      "cell_type": "markdown",
      "source": [
        "#Bagging"
      ],
      "metadata": {
        "id": "q8rAwNgdmDNU"
      }
    },
    {
      "cell_type": "code",
      "source": [
        "from sklearn.ensemble import BaggingRegressor"
      ],
      "metadata": {
        "id": "bG5KfFwPe05e"
      },
      "execution_count": 37,
      "outputs": []
    },
    {
      "cell_type": "code",
      "source": [
        "regr = BaggingRegressor(base_estimator=DecisionTreeRegressor(),n_estimators=100,oob_score=True,random_state=0).fit(X_train, y_train)"
      ],
      "metadata": {
        "id": "8HPY5y9SlUBq"
      },
      "execution_count": 38,
      "outputs": []
    },
    {
      "cell_type": "code",
      "source": [
        "print(\"R^2 is {}\".format(regr.score(X_test,y_test)),\":\",\":\", \"MSE is {}\".format(mean_squared_error(regr.predict(X_test),y_test)))"
      ],
      "metadata": {
        "colab": {
          "base_uri": "https://localhost:8080/"
        },
        "id": "Q7fI_CMKlc1B",
        "outputId": "d075227e-76d5-441f-d4ae-34222ffd46a0"
      },
      "execution_count": 39,
      "outputs": [
        {
          "output_type": "stream",
          "name": "stdout",
          "text": [
            "R^2 is 0.06686137655076663 : : MSE is 0.5674623333333333\n"
          ]
        }
      ]
    },
    {
      "cell_type": "code",
      "source": [
        "regr.oob_score_"
      ],
      "metadata": {
        "colab": {
          "base_uri": "https://localhost:8080/"
        },
        "id": "7N2vVMeNlia3",
        "outputId": "6a048809-217f-4c14-f27f-7cd3bd0af9c2"
      },
      "execution_count": 40,
      "outputs": [
        {
          "output_type": "execute_result",
          "data": {
            "text/plain": [
              "0.13975380213349764"
            ]
          },
          "metadata": {},
          "execution_count": 40
        }
      ]
    },
    {
      "cell_type": "code",
      "source": [
        "num_trees=np.linspace(50,500,10)\n",
        "oob_res=[]\n",
        "for trs in num_trees:\n",
        "    res = BaggingRegressor(base_estimator=DecisionTreeRegressor(),n_estimators=int(trs),oob_score=True,random_state=0).fit(X_train, y_train)\n",
        "    oob_res.append(res.oob_score_)"
      ],
      "metadata": {
        "id": "hB17RwFu1eYD"
      },
      "execution_count": 21,
      "outputs": []
    },
    {
      "cell_type": "code",
      "source": [
        "plt.plot(num_trees,oob_res)"
      ],
      "metadata": {
        "colab": {
          "base_uri": "https://localhost:8080/",
          "height": 283
        },
        "id": "H4ekO0mc1zhS",
        "outputId": "e16093f7-0dc3-44f8-b606-88147c16c6b0"
      },
      "execution_count": 22,
      "outputs": [
        {
          "output_type": "execute_result",
          "data": {
            "text/plain": [
              "[<matplotlib.lines.Line2D at 0x7f6e56576f10>]"
            ]
          },
          "metadata": {},
          "execution_count": 22
        },
        {
          "output_type": "display_data",
          "data": {
            "text/plain": [
              "<Figure size 432x288 with 1 Axes>"
            ],
            "image/png": "[encoded data removed]"
          },
          "metadata": {
            "needs_background": "light"
          }
        }
      ]
    },
    {
      "cell_type": "code",
      "source": [
        "num_trees[np.argmax(oob_res)]"
      ],
      "metadata": {
        "colab": {
          "base_uri": "https://localhost:8080/"
        },
        "id": "ZbZlWJIx1_JR",
        "outputId": "95f5825c-a761-4b59-8dca-2837611c1e59"
      },
      "execution_count": 23,
      "outputs": [
        {
          "output_type": "execute_result",
          "data": {
            "text/plain": [
              "300.0"
            ]
          },
          "metadata": {},
          "execution_count": 23
        }
      ]
    },
    {
      "cell_type": "code",
      "source": [
        "opt_trs=int(num_trees[np.argmax(oob_res)])"
      ],
      "metadata": {
        "id": "WNlS032z2D8k"
      },
      "execution_count": 24,
      "outputs": []
    },
    {
      "cell_type": "code",
      "source": [
        "regr = BaggingRegressor(base_estimator=DecisionTreeRegressor(),n_estimators=opt_trs,random_state=5).fit(X_train, y_train)"
      ],
      "metadata": {
        "id": "3Wvmt1sF2p-6"
      },
      "execution_count": 31,
      "outputs": []
    },
    {
      "cell_type": "code",
      "source": [
        "np.round(regr.score(X_test,y_test),3)"
      ],
      "metadata": {
        "colab": {
          "base_uri": "https://localhost:8080/"
        },
        "id": "ZYw-WQHJ3rkI",
        "outputId": "24445d41-fcf0-47ba-84c6-9fa335c8209d"
      },
      "execution_count": 32,
      "outputs": [
        {
          "output_type": "execute_result",
          "data": {
            "text/plain": [
              "0.06"
            ]
          },
          "metadata": {},
          "execution_count": 32
        }
      ]
    },
    {
      "cell_type": "markdown",
      "source": [
        "\n",
        "**The R2 of the bagging model is 0.06**"
      ],
      "metadata": {
        "id": "4KRjlBP1Rlub"
      }
    },
    {
      "cell_type": "markdown",
      "source": [
        "**Random Forest Regressor**"
      ],
      "metadata": {
        "id": "ygXFGHZySFyK"
      }
    },
    {
      "cell_type": "code",
      "source": [
        "from sklearn.ensemble import RandomForestRegressor"
      ],
      "metadata": {
        "id": "4a7Cc_de3sVX"
      },
      "execution_count": 41,
      "outputs": []
    },
    {
      "cell_type": "code",
      "source": [
        "rf = RandomForestRegressor(n_estimators=300,max_features='sqrt',random_state=5).fit(X_train,y_train)"
      ],
      "metadata": {
        "id": "lVYYsC619U6e"
      },
      "execution_count": 46,
      "outputs": []
    },
    {
      "cell_type": "code",
      "source": [
        "rf.score(X_test,y_test)"
      ],
      "metadata": {
        "colab": {
          "base_uri": "https://localhost:8080/"
        },
        "id": "6XmUDgq69170",
        "outputId": "f50133ff-158a-4719-dfd9-21f46b941f5a"
      },
      "execution_count": 47,
      "outputs": [
        {
          "output_type": "execute_result",
          "data": {
            "text/plain": [
              "0.0854884191165276"
            ]
          },
          "metadata": {},
          "execution_count": 47
        }
      ]
    },
    {
      "cell_type": "markdown",
      "source": [
        "**The R2 for Random Forest Regressor is 0.085**"
      ],
      "metadata": {
        "id": "aCmyFw58SyYF"
      }
    },
    {
      "cell_type": "markdown",
      "source": [
        "#Boosting\n"
      ],
      "metadata": {
        "id": "RNB3WfAaJ0O7"
      }
    },
    {
      "cell_type": "code",
      "source": [
        "from sklearn.ensemble import GradientBoostingRegressor"
      ],
      "metadata": {
        "id": "WIQ1qNpS-0TZ"
      },
      "execution_count": 48,
      "outputs": []
    },
    {
      "cell_type": "code",
      "source": [
        "breg = GradientBoostingRegressor(random_state=0,learning_rate=0.1,n_estimators=500,max_depth=2).fit(X_train,y_train)"
      ],
      "metadata": {
        "id": "NErlPdeQIA4w"
      },
      "execution_count": 49,
      "outputs": []
    },
    {
      "cell_type": "code",
      "source": [
        "breg.score(X_test,y_test)"
      ],
      "metadata": {
        "colab": {
          "base_uri": "https://localhost:8080/"
        },
        "id": "CG-VHwI6IDhp",
        "outputId": "8932fad2-70b7-4c2f-ce8b-298c0b18b18d"
      },
      "execution_count": 50,
      "outputs": [
        {
          "output_type": "execute_result",
          "data": {
            "text/plain": [
              "-0.09803107403591205"
            ]
          },
          "metadata": {},
          "execution_count": 50
        }
      ]
    },
    {
      "cell_type": "code",
      "source": [
        "from sklearn.model_selection import GridSearchCV"
      ],
      "metadata": {
        "id": "ytKNJMSVII3f"
      },
      "execution_count": 51,
      "outputs": []
    },
    {
      "cell_type": "code",
      "source": [
        "parameters = {'learning_rate':[0.1,0.01], 'n_estimators':[300,400,500],'max_depth':[2,3,4,5]}"
      ],
      "metadata": {
        "id": "2fgj1nxJISpo"
      },
      "execution_count": 52,
      "outputs": []
    },
    {
      "cell_type": "code",
      "source": [
        "bmod = GradientBoostingRegressor(random_state=5)"
      ],
      "metadata": {
        "id": "ZMpovh0wOYZf"
      },
      "execution_count": 53,
      "outputs": []
    },
    {
      "cell_type": "code",
      "source": [
        "boost_regr = GridSearchCV(bmod, parameters)\n",
        "boost_regr.fit(X_train, y_train)"
      ],
      "metadata": {
        "colab": {
          "base_uri": "https://localhost:8080/"
        },
        "id": "CxHRDvKHMu0_",
        "outputId": "ca079265-5245-44a4-be7c-a15ab04e8946"
      },
      "execution_count": 54,
      "outputs": [
        {
          "output_type": "execute_result",
          "data": {
            "text/plain": [
              "GridSearchCV(estimator=GradientBoostingRegressor(random_state=5),\n",
              "             param_grid={'learning_rate': [0.1, 0.01],\n",
              "                         'max_depth': [2, 3, 4, 5],\n",
              "                         'n_estimators': [300, 400, 500]})"
            ]
          },
          "metadata": {},
          "execution_count": 54
        }
      ]
    },
    {
      "cell_type": "code",
      "source": [
        "df=pd.DataFrame.from_dict(boost_regr.cv_results_)"
      ],
      "metadata": {
        "id": "gvCrTDrCMvcE"
      },
      "execution_count": 55,
      "outputs": []
    },
    {
      "cell_type": "code",
      "source": [
        "df[df['mean_test_score']==df['mean_test_score'].max()]"
      ],
      "metadata": {
        "colab": {
          "base_uri": "https://localhost:8080/",
          "height": 197
        },
        "id": "6s5U37jDTzIB",
        "outputId": "bc235d2c-56ed-4bc6-a6b6-b4b6040f9c65"
      },
      "execution_count": 56,
      "outputs": [
        {
          "output_type": "execute_result",
          "data": {
            "text/plain": [
              "    mean_fit_time  std_fit_time  mean_score_time  std_score_time  \\\n",
              "20       1.270275      0.006669         0.003558        0.000081   \n",
              "\n",
              "   param_learning_rate param_max_depth param_n_estimators  \\\n",
              "20                0.01               4                500   \n",
              "\n",
              "                                               params  split0_test_score  \\\n",
              "20  {'learning_rate': 0.01, 'max_depth': 4, 'n_est...           0.144009   \n",
              "\n",
              "    split1_test_score  split2_test_score  split3_test_score  \\\n",
              "20           0.176699           0.038962            0.09989   \n",
              "\n",
              "    split4_test_score  mean_test_score  std_test_score  rank_test_score  \n",
              "20           0.212561         0.134424        0.060481                1  "
            ],
            "text/html": [
              "\n",
              "  <div id=\"df-bf8e8268-5948-4120-8f95-adfa81069a14\">\n",
              "    <div class=\"colab-df-container\">\n",
              "      <div>\n",
              "<style scoped>\n",
              "    .dataframe tbody tr th:only-of-type {\n",
              "        vertical-align: middle;\n",
              "    }\n",
              "\n",
              "    .dataframe tbody tr th {\n",
              "        vertical-align: top;\n",
              "    }\n",
              "\n",
              "    .dataframe thead th {\n",
              "        text-align: right;\n",
              "    }\n",
              "</style>\n",
              "<table border=\"1\" class=\"dataframe\">\n",
              "  <thead>\n",
              "    <tr style=\"text-align: right;\">\n",
              "      <th></th>\n",
              "      <th>mean_fit_time</th>\n",
              "      <th>std_fit_time</th>\n",
              "      <th>mean_score_time</th>\n",
              "      <th>std_score_time</th>\n",
              "      <th>param_learning_rate</th>\n",
              "      <th>param_max_depth</th>\n",
              "      <th>param_n_estimators</th>\n",
              "      <th>params</th>\n",
              "      <th>split0_test_score</th>\n",
              "      <th>split1_test_score</th>\n",
              "      <th>split2_test_score</th>\n",
              "      <th>split3_test_score</th>\n",
              "      <th>split4_test_score</th>\n",
              "      <th>mean_test_score</th>\n",
              "      <th>std_test_score</th>\n",
              "      <th>rank_test_score</th>\n",
              "    </tr>\n",
              "  </thead>\n",
              "  <tbody>\n",
              "    <tr>\n",
              "      <th>20</th>\n",
              "      <td>1.270275</td>\n",
              "      <td>0.006669</td>\n",
              "      <td>0.003558</td>\n",
              "      <td>0.000081</td>\n",
              "      <td>0.01</td>\n",
              "      <td>4</td>\n",
              "      <td>500</td>\n",
              "      <td>{'learning_rate': 0.01, 'max_depth': 4, 'n_est...</td>\n",
              "      <td>0.144009</td>\n",
              "      <td>0.176699</td>\n",
              "      <td>0.038962</td>\n",
              "      <td>0.09989</td>\n",
              "      <td>0.212561</td>\n",
              "      <td>0.134424</td>\n",
              "      <td>0.060481</td>\n",
              "      <td>1</td>\n",
              "    </tr>\n",
              "  </tbody>\n",
              "</table>\n",
              "</div>\n",
              "      <button class=\"colab-df-convert\" onclick=\"convertToInteractive('df-bf8e8268-5948-4120-8f95-adfa81069a14')\"\n",
              "              title=\"Convert this dataframe to an interactive table.\"\n",
              "              style=\"display:none;\">\n",
              "        \n",
              "  <svg xmlns=\"http://www.w3.org/2000/svg\" height=\"24px\"viewBox=\"0 0 24 24\"\n",
              "       width=\"24px\">\n",
              "    <path d=\"M0 0h24v24H0V0z\" fill=\"none\"/>\n",
              "    <path d=\"M18.56 5.44l.94 2.06.94-2.06 2.06-.94-2.06-.94-.94-2.06-.94 2.06-2.06.94zm-11 1L8.5 8.5l.94-2.06 2.06-.94-2.06-.94L8.5 2.5l-.94 2.06-2.06.94zm10 10l.94 2.06.94-2.06 2.06-.94-2.06-.94-.94-2.06-.94 2.06-2.06.94z\"/><path d=\"M17.41 7.96l-1.37-1.37c-.4-.4-.92-.59-1.43-.59-.52 0-1.04.2-1.43.59L10.3 9.45l-7.72 7.72c-.78.78-.78 2.05 0 2.83L4 21.41c.39.39.9.59 1.41.59.51 0 1.02-.2 1.41-.59l7.78-7.78 2.81-2.81c.8-.78.8-2.07 0-2.86zM5.41 20L4 18.59l7.72-7.72 1.47 1.35L5.41 20z\"/>\n",
              "  </svg>\n",
              "      </button>\n",
              "      \n",
              "  <style>\n",
              "    .colab-df-container {\n",
              "      display:flex;\n",
              "      flex-wrap:wrap;\n",
              "      gap: 12px;\n",
              "    }\n",
              "\n",
              "    .colab-df-convert {\n",
              "      background-color: #E8F0FE;\n",
              "      border: none;\n",
              "      border-radius: 50%;\n",
              "      cursor: pointer;\n",
              "      display: none;\n",
              "      fill: #1967D2;\n",
              "      height: 32px;\n",
              "      padding: 0 0 0 0;\n",
              "      width: 32px;\n",
              "    }\n",
              "\n",
              "    .colab-df-convert:hover {\n",
              "      background-color: #E2EBFA;\n",
              "      box-shadow: 0px 1px 2px rgba(60, 64, 67, 0.3), 0px 1px 3px 1px rgba(60, 64, 67, 0.15);\n",
              "      fill: #174EA6;\n",
              "    }\n",
              "\n",
              "    [theme=dark] .colab-df-convert {\n",
              "      background-color: #3B4455;\n",
              "      fill: #D2E3FC;\n",
              "    }\n",
              "\n",
              "    [theme=dark] .colab-df-convert:hover {\n",
              "      background-color: #434B5C;\n",
              "      box-shadow: 0px 1px 3px 1px rgba(0, 0, 0, 0.15);\n",
              "      filter: drop-shadow(0px 1px 2px rgba(0, 0, 0, 0.3));\n",
              "      fill: #FFFFFF;\n",
              "    }\n",
              "  </style>\n",
              "\n",
              "      <script>\n",
              "        const buttonEl =\n",
              "          document.querySelector('#df-bf8e8268-5948-4120-8f95-adfa81069a14 button.colab-df-convert');\n",
              "        buttonEl.style.display =\n",
              "          google.colab.kernel.accessAllowed ? 'block' : 'none';\n",
              "\n",
              "        async function convertToInteractive(key) {\n",
              "          const element = document.querySelector('#df-bf8e8268-5948-4120-8f95-adfa81069a14');\n",
              "          const dataTable =\n",
              "            await google.colab.kernel.invokeFunction('convertToInteractive',\n",
              "                                                     [key], {});\n",
              "          if (!dataTable) return;\n",
              "\n",
              "          const docLinkHtml = 'Like what you see? Visit the ' +\n",
              "            '<a target=\"_blank\" href=https://colab.research.google.com/notebooks/data_table.ipynb>data table notebook</a>'\n",
              "            + ' to learn more about interactive tables.';\n",
              "          element.innerHTML = '';\n",
              "          dataTable['output_type'] = 'display_data';\n",
              "          await google.colab.output.renderOutput(dataTable, element);\n",
              "          const docLink = document.createElement('div');\n",
              "          docLink.innerHTML = docLinkHtml;\n",
              "          element.appendChild(docLink);\n",
              "        }\n",
              "      </script>\n",
              "    </div>\n",
              "  </div>\n",
              "  "
            ]
          },
          "metadata": {},
          "execution_count": 56
        }
      ]
    },
    {
      "cell_type": "code",
      "source": [
        "best_breg = GradientBoostingRegressor(random_state=0,learning_rate=0.01,n_estimators=500,max_depth=4).fit(X_train,y_train)"
      ],
      "metadata": {
        "id": "PG8CgtrhUw9r"
      },
      "execution_count": 57,
      "outputs": []
    },
    {
      "cell_type": "code",
      "source": [
        "np.round(best_breg.score(X_test,y_test),3)"
      ],
      "metadata": {
        "colab": {
          "base_uri": "https://localhost:8080/"
        },
        "id": "PlQEAjzwYa1K",
        "outputId": "dab83d63-354c-4042-d12b-1f988cc88b61"
      },
      "execution_count": 58,
      "outputs": [
        {
          "output_type": "execute_result",
          "data": {
            "text/plain": [
              "0.092"
            ]
          },
          "metadata": {},
          "execution_count": 58
        }
      ]
    },
    {
      "cell_type": "markdown",
      "source": [
        "The R2 of boosting model is 0.092"
      ],
      "metadata": {
        "id": "De0w_KLuVX2Z"
      }
    },
    {
      "cell_type": "markdown",
      "source": [
        "4. Comment on which model gives the best results on the test set.  For the best model, comment on feature importances (if relevant). \n",
        "\n",
        "The boosting model gives a better result because it considers homogeneous weak learners and learns them in an a sequential manner. The models depend on their pervious ones. \n",
        "\n",
        "\n"
      ],
      "metadata": {
        "id": "amT8TScGVITc"
      }
    },
    {
      "cell_type": "code",
      "source": [
        ""
      ],
      "metadata": {
        "id": "CClGFHMmYlaT"
      },
      "execution_count": 58,
      "outputs": []
    }
  ]
}