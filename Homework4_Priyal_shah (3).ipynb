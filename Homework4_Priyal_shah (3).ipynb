{
  "nbformat": 4,
  "nbformat_minor": 0,
  "metadata": {
    "colab": {
      "name": "Homework4_Priyal shah.ipynb",
      "provenance": []
    },
    "kernelspec": {
      "name": "python3",
      "display_name": "Python 3"
    },
    "language_info": {
      "name": "python"
    }
  },
  "cells": [
    {
      "cell_type": "code",
      "execution_count": 2,
      "metadata": {
        "id": "sc75KwIWth4A"
      },
      "outputs": [],
      "source": [
        "import pandas as pd\n",
        "import numpy as np\n",
        "import matplotlib.pyplot as plt\n",
        "from sklearn.model_selection import cross_validate\n",
        "from sklearn.model_selection import train_test_split\n",
        "from sklearn.metrics import mean_squared_error\n",
        "from sklearn import datasets\n",
        "from sklearn.metrics import accuracy_score\n",
        "from sklearn import tree\n",
        "from sklearn.tree import DecisionTreeClassifier\n",
        "from sklearn.tree import DecisionTreeClassifier\n",
        "from sklearn.ensemble import RandomForestClassifier\n",
        "from sklearn.ensemble import GradientBoostingClassifier\n",
        "from sklearn.ensemble import BaggingClassifier\n",
        "from sklearn.linear_model import LogisticRegression"
      ]
    },
    {
      "cell_type": "code",
      "source": [
        "data = pd.read_csv('/content/drive/MyDrive/Colab Notebooks/data/classify_imb.csv')"
      ],
      "metadata": {
        "id": "TjIR3ggutlVp"
      },
      "execution_count": 3,
      "outputs": []
    },
    {
      "cell_type": "code",
      "source": [
        "data"
      ],
      "metadata": {
        "colab": {
          "base_uri": "https://localhost:8080/",
          "height": 487
        },
        "id": "AfvhTipdu61x",
        "outputId": "76611903-1703-400f-9dbd-37d673e307ed"
      },
      "execution_count": 4,
      "outputs": [
        {
          "output_type": "execute_result",
          "data": {
            "text/plain": [
              "            A         B         C         D         E         F         G  \\\n",
              "0    2.868690 -0.106937  1.065444  0.749917  2.138981 -0.267874 -4.287288   \n",
              "1   -1.463642 -1.291157 -1.464761  1.287344 -1.994637  0.831797  0.130555   \n",
              "2   -2.208983  1.112905  1.484842  1.455104 -0.380712 -0.465900  3.464477   \n",
              "3    1.757493 -0.194035 -1.502209 -1.227620 -1.629453  2.192913 -0.774430   \n",
              "4   -0.621503 -1.709654 -2.155096 -1.982270 -1.205284 -0.285097 -1.279000   \n",
              "..        ...       ...       ...       ...       ...       ...       ...   \n",
              "995 -0.597016 -0.058968 -0.883755 -1.185085  2.798069 -0.688958  1.403163   \n",
              "996 -3.101287  1.255737 -0.995375  1.528169  1.289261  2.116091  1.573981   \n",
              "997 -1.430878  1.423774 -2.381375 -1.064439  5.550441  0.302901  1.445181   \n",
              "998  0.965698 -0.147079 -2.212334  1.209485 -2.267677  1.774173  0.446710   \n",
              "999  1.315056 -1.547771  1.485064 -2.915247  0.720597 -1.693207 -2.003952   \n",
              "\n",
              "            H         I         J  ...         L         M         N  \\\n",
              "0   -0.003229  0.102618 -1.594098  ... -0.031744 -1.836612  2.508588   \n",
              "1   -0.555585 -1.746450  0.320191  ... -0.948864  0.497305  2.651037   \n",
              "2    1.561576 -0.972615  2.646365  ...  0.571619 -0.573899 -4.393691   \n",
              "3   -1.284792  0.433154  2.233775  ...  0.089484 -2.290146 -2.274138   \n",
              "4   -3.831940 -1.205034 -4.213100  ...  0.808936  0.647993  4.629954   \n",
              "..        ...       ...       ...  ...       ...       ...       ...   \n",
              "995 -1.843103  0.346712 -2.234694  ... -0.785120  1.470929 -3.184477   \n",
              "996  0.422076 -1.045971  1.904110  ... -0.370083 -0.902425 -1.788914   \n",
              "997 -5.063313 -0.333850 -5.566545  ... -1.533786 -0.720187 -4.316099   \n",
              "998 -2.363656 -0.795120  1.195916  ...  1.107171  2.354562 -2.371758   \n",
              "999  2.610604 -0.218337 -1.528609  ... -0.350076  0.609276  5.141815   \n",
              "\n",
              "            O         P         Q         R         S         T  Target  \n",
              "0    2.123112 -1.599241  0.944821  0.330276  1.017247 -0.440207       0  \n",
              "1    1.722998  0.290210 -1.278545  0.488835  1.577497 -1.097335       1  \n",
              "2   -3.936344  5.499447  0.874778 -0.858103 -1.040617 -2.759917       0  \n",
              "3   -3.454273 -0.904307  0.459121 -0.043155 -2.129675 -0.559314       0  \n",
              "4    3.860843 -1.288296  0.992935  1.069965  3.676966  1.005724       0  \n",
              "..        ...       ...       ...       ...       ...       ...     ...  \n",
              "995 -3.113836 -0.166130  1.515417 -0.507200 -1.385448  1.099414       1  \n",
              "996 -2.686736  1.720358 -0.780103 -1.834606  0.190024 -0.436017       0  \n",
              "997 -3.982227 -2.949054  3.422676 -0.652477 -0.303372 -0.381482       1  \n",
              "998 -3.317124 -1.024851  0.684339 -0.357698 -1.878043  1.143353       0  \n",
              "999  6.492223 -4.050462 -2.719196  0.729706  1.067730 -0.331290       0  \n",
              "\n",
              "[1000 rows x 21 columns]"
            ],
            "text/html": [
              "\n",
              "  <div id=\"df-50105bf7-bc42-4c66-b3f7-9fbe49c4b6fa\">\n",
              "    <div class=\"colab-df-container\">\n",
              "      <div>\n",
              "<style scoped>\n",
              "    .dataframe tbody tr th:only-of-type {\n",
              "        vertical-align: middle;\n",
              "    }\n",
              "\n",
              "    .dataframe tbody tr th {\n",
              "        vertical-align: top;\n",
              "    }\n",
              "\n",
              "    .dataframe thead th {\n",
              "        text-align: right;\n",
              "    }\n",
              "</style>\n",
              "<table border=\"1\" class=\"dataframe\">\n",
              "  <thead>\n",
              "    <tr style=\"text-align: right;\">\n",
              "      <th></th>\n",
              "      <th>A</th>\n",
              "      <th>B</th>\n",
              "      <th>C</th>\n",
              "      <th>D</th>\n",
              "      <th>E</th>\n",
              "      <th>F</th>\n",
              "      <th>G</th>\n",
              "      <th>H</th>\n",
              "      <th>I</th>\n",
              "      <th>J</th>\n",
              "      <th>...</th>\n",
              "      <th>L</th>\n",
              "      <th>M</th>\n",
              "      <th>N</th>\n",
              "      <th>O</th>\n",
              "      <th>P</th>\n",
              "      <th>Q</th>\n",
              "      <th>R</th>\n",
              "      <th>S</th>\n",
              "      <th>T</th>\n",
              "      <th>Target</th>\n",
              "    </tr>\n",
              "  </thead>\n",
              "  <tbody>\n",
              "    <tr>\n",
              "      <th>0</th>\n",
              "      <td>2.868690</td>\n",
              "      <td>-0.106937</td>\n",
              "      <td>1.065444</td>\n",
              "      <td>0.749917</td>\n",
              "      <td>2.138981</td>\n",
              "      <td>-0.267874</td>\n",
              "      <td>-4.287288</td>\n",
              "      <td>-0.003229</td>\n",
              "      <td>0.102618</td>\n",
              "      <td>-1.594098</td>\n",
              "      <td>...</td>\n",
              "      <td>-0.031744</td>\n",
              "      <td>-1.836612</td>\n",
              "      <td>2.508588</td>\n",
              "      <td>2.123112</td>\n",
              "      <td>-1.599241</td>\n",
              "      <td>0.944821</td>\n",
              "      <td>0.330276</td>\n",
              "      <td>1.017247</td>\n",
              "      <td>-0.440207</td>\n",
              "      <td>0</td>\n",
              "    </tr>\n",
              "    <tr>\n",
              "      <th>1</th>\n",
              "      <td>-1.463642</td>\n",
              "      <td>-1.291157</td>\n",
              "      <td>-1.464761</td>\n",
              "      <td>1.287344</td>\n",
              "      <td>-1.994637</td>\n",
              "      <td>0.831797</td>\n",
              "      <td>0.130555</td>\n",
              "      <td>-0.555585</td>\n",
              "      <td>-1.746450</td>\n",
              "      <td>0.320191</td>\n",
              "      <td>...</td>\n",
              "      <td>-0.948864</td>\n",
              "      <td>0.497305</td>\n",
              "      <td>2.651037</td>\n",
              "      <td>1.722998</td>\n",
              "      <td>0.290210</td>\n",
              "      <td>-1.278545</td>\n",
              "      <td>0.488835</td>\n",
              "      <td>1.577497</td>\n",
              "      <td>-1.097335</td>\n",
              "      <td>1</td>\n",
              "    </tr>\n",
              "    <tr>\n",
              "      <th>2</th>\n",
              "      <td>-2.208983</td>\n",
              "      <td>1.112905</td>\n",
              "      <td>1.484842</td>\n",
              "      <td>1.455104</td>\n",
              "      <td>-0.380712</td>\n",
              "      <td>-0.465900</td>\n",
              "      <td>3.464477</td>\n",
              "      <td>1.561576</td>\n",
              "      <td>-0.972615</td>\n",
              "      <td>2.646365</td>\n",
              "      <td>...</td>\n",
              "      <td>0.571619</td>\n",
              "      <td>-0.573899</td>\n",
              "      <td>-4.393691</td>\n",
              "      <td>-3.936344</td>\n",
              "      <td>5.499447</td>\n",
              "      <td>0.874778</td>\n",
              "      <td>-0.858103</td>\n",
              "      <td>-1.040617</td>\n",
              "      <td>-2.759917</td>\n",
              "      <td>0</td>\n",
              "    </tr>\n",
              "    <tr>\n",
              "      <th>3</th>\n",
              "      <td>1.757493</td>\n",
              "      <td>-0.194035</td>\n",
              "      <td>-1.502209</td>\n",
              "      <td>-1.227620</td>\n",
              "      <td>-1.629453</td>\n",
              "      <td>2.192913</td>\n",
              "      <td>-0.774430</td>\n",
              "      <td>-1.284792</td>\n",
              "      <td>0.433154</td>\n",
              "      <td>2.233775</td>\n",
              "      <td>...</td>\n",
              "      <td>0.089484</td>\n",
              "      <td>-2.290146</td>\n",
              "      <td>-2.274138</td>\n",
              "      <td>-3.454273</td>\n",
              "      <td>-0.904307</td>\n",
              "      <td>0.459121</td>\n",
              "      <td>-0.043155</td>\n",
              "      <td>-2.129675</td>\n",
              "      <td>-0.559314</td>\n",
              "      <td>0</td>\n",
              "    </tr>\n",
              "    <tr>\n",
              "      <th>4</th>\n",
              "      <td>-0.621503</td>\n",
              "      <td>-1.709654</td>\n",
              "      <td>-2.155096</td>\n",
              "      <td>-1.982270</td>\n",
              "      <td>-1.205284</td>\n",
              "      <td>-0.285097</td>\n",
              "      <td>-1.279000</td>\n",
              "      <td>-3.831940</td>\n",
              "      <td>-1.205034</td>\n",
              "      <td>-4.213100</td>\n",
              "      <td>...</td>\n",
              "      <td>0.808936</td>\n",
              "      <td>0.647993</td>\n",
              "      <td>4.629954</td>\n",
              "      <td>3.860843</td>\n",
              "      <td>-1.288296</td>\n",
              "      <td>0.992935</td>\n",
              "      <td>1.069965</td>\n",
              "      <td>3.676966</td>\n",
              "      <td>1.005724</td>\n",
              "      <td>0</td>\n",
              "    </tr>\n",
              "    <tr>\n",
              "      <th>...</th>\n",
              "      <td>...</td>\n",
              "      <td>...</td>\n",
              "      <td>...</td>\n",
              "      <td>...</td>\n",
              "      <td>...</td>\n",
              "      <td>...</td>\n",
              "      <td>...</td>\n",
              "      <td>...</td>\n",
              "      <td>...</td>\n",
              "      <td>...</td>\n",
              "      <td>...</td>\n",
              "      <td>...</td>\n",
              "      <td>...</td>\n",
              "      <td>...</td>\n",
              "      <td>...</td>\n",
              "      <td>...</td>\n",
              "      <td>...</td>\n",
              "      <td>...</td>\n",
              "      <td>...</td>\n",
              "      <td>...</td>\n",
              "      <td>...</td>\n",
              "    </tr>\n",
              "    <tr>\n",
              "      <th>995</th>\n",
              "      <td>-0.597016</td>\n",
              "      <td>-0.058968</td>\n",
              "      <td>-0.883755</td>\n",
              "      <td>-1.185085</td>\n",
              "      <td>2.798069</td>\n",
              "      <td>-0.688958</td>\n",
              "      <td>1.403163</td>\n",
              "      <td>-1.843103</td>\n",
              "      <td>0.346712</td>\n",
              "      <td>-2.234694</td>\n",
              "      <td>...</td>\n",
              "      <td>-0.785120</td>\n",
              "      <td>1.470929</td>\n",
              "      <td>-3.184477</td>\n",
              "      <td>-3.113836</td>\n",
              "      <td>-0.166130</td>\n",
              "      <td>1.515417</td>\n",
              "      <td>-0.507200</td>\n",
              "      <td>-1.385448</td>\n",
              "      <td>1.099414</td>\n",
              "      <td>1</td>\n",
              "    </tr>\n",
              "    <tr>\n",
              "      <th>996</th>\n",
              "      <td>-3.101287</td>\n",
              "      <td>1.255737</td>\n",
              "      <td>-0.995375</td>\n",
              "      <td>1.528169</td>\n",
              "      <td>1.289261</td>\n",
              "      <td>2.116091</td>\n",
              "      <td>1.573981</td>\n",
              "      <td>0.422076</td>\n",
              "      <td>-1.045971</td>\n",
              "      <td>1.904110</td>\n",
              "      <td>...</td>\n",
              "      <td>-0.370083</td>\n",
              "      <td>-0.902425</td>\n",
              "      <td>-1.788914</td>\n",
              "      <td>-2.686736</td>\n",
              "      <td>1.720358</td>\n",
              "      <td>-0.780103</td>\n",
              "      <td>-1.834606</td>\n",
              "      <td>0.190024</td>\n",
              "      <td>-0.436017</td>\n",
              "      <td>0</td>\n",
              "    </tr>\n",
              "    <tr>\n",
              "      <th>997</th>\n",
              "      <td>-1.430878</td>\n",
              "      <td>1.423774</td>\n",
              "      <td>-2.381375</td>\n",
              "      <td>-1.064439</td>\n",
              "      <td>5.550441</td>\n",
              "      <td>0.302901</td>\n",
              "      <td>1.445181</td>\n",
              "      <td>-5.063313</td>\n",
              "      <td>-0.333850</td>\n",
              "      <td>-5.566545</td>\n",
              "      <td>...</td>\n",
              "      <td>-1.533786</td>\n",
              "      <td>-0.720187</td>\n",
              "      <td>-4.316099</td>\n",
              "      <td>-3.982227</td>\n",
              "      <td>-2.949054</td>\n",
              "      <td>3.422676</td>\n",
              "      <td>-0.652477</td>\n",
              "      <td>-0.303372</td>\n",
              "      <td>-0.381482</td>\n",
              "      <td>1</td>\n",
              "    </tr>\n",
              "    <tr>\n",
              "      <th>998</th>\n",
              "      <td>0.965698</td>\n",
              "      <td>-0.147079</td>\n",
              "      <td>-2.212334</td>\n",
              "      <td>1.209485</td>\n",
              "      <td>-2.267677</td>\n",
              "      <td>1.774173</td>\n",
              "      <td>0.446710</td>\n",
              "      <td>-2.363656</td>\n",
              "      <td>-0.795120</td>\n",
              "      <td>1.195916</td>\n",
              "      <td>...</td>\n",
              "      <td>1.107171</td>\n",
              "      <td>2.354562</td>\n",
              "      <td>-2.371758</td>\n",
              "      <td>-3.317124</td>\n",
              "      <td>-1.024851</td>\n",
              "      <td>0.684339</td>\n",
              "      <td>-0.357698</td>\n",
              "      <td>-1.878043</td>\n",
              "      <td>1.143353</td>\n",
              "      <td>0</td>\n",
              "    </tr>\n",
              "    <tr>\n",
              "      <th>999</th>\n",
              "      <td>1.315056</td>\n",
              "      <td>-1.547771</td>\n",
              "      <td>1.485064</td>\n",
              "      <td>-2.915247</td>\n",
              "      <td>0.720597</td>\n",
              "      <td>-1.693207</td>\n",
              "      <td>-2.003952</td>\n",
              "      <td>2.610604</td>\n",
              "      <td>-0.218337</td>\n",
              "      <td>-1.528609</td>\n",
              "      <td>...</td>\n",
              "      <td>-0.350076</td>\n",
              "      <td>0.609276</td>\n",
              "      <td>5.141815</td>\n",
              "      <td>6.492223</td>\n",
              "      <td>-4.050462</td>\n",
              "      <td>-2.719196</td>\n",
              "      <td>0.729706</td>\n",
              "      <td>1.067730</td>\n",
              "      <td>-0.331290</td>\n",
              "      <td>0</td>\n",
              "    </tr>\n",
              "  </tbody>\n",
              "</table>\n",
              "<p>1000 rows × 21 columns</p>\n",
              "</div>\n",
              "      <button class=\"colab-df-convert\" onclick=\"convertToInteractive('df-50105bf7-bc42-4c66-b3f7-9fbe49c4b6fa')\"\n",
              "              title=\"Convert this dataframe to an interactive table.\"\n",
              "              style=\"display:none;\">\n",
              "        \n",
              "  <svg xmlns=\"http://www.w3.org/2000/svg\" height=\"24px\"viewBox=\"0 0 24 24\"\n",
              "       width=\"24px\">\n",
              "    <path d=\"M0 0h24v24H0V0z\" fill=\"none\"/>\n",
              "    <path d=\"M18.56 5.44l.94 2.06.94-2.06 2.06-.94-2.06-.94-.94-2.06-.94 2.06-2.06.94zm-11 1L8.5 8.5l.94-2.06 2.06-.94-2.06-.94L8.5 2.5l-.94 2.06-2.06.94zm10 10l.94 2.06.94-2.06 2.06-.94-2.06-.94-.94-2.06-.94 2.06-2.06.94z\"/><path d=\"M17.41 7.96l-1.37-1.37c-.4-.4-.92-.59-1.43-.59-.52 0-1.04.2-1.43.59L10.3 9.45l-7.72 7.72c-.78.78-.78 2.05 0 2.83L4 21.41c.39.39.9.59 1.41.59.51 0 1.02-.2 1.41-.59l7.78-7.78 2.81-2.81c.8-.78.8-2.07 0-2.86zM5.41 20L4 18.59l7.72-7.72 1.47 1.35L5.41 20z\"/>\n",
              "  </svg>\n",
              "      </button>\n",
              "      \n",
              "  <style>\n",
              "    .colab-df-container {\n",
              "      display:flex;\n",
              "      flex-wrap:wrap;\n",
              "      gap: 12px;\n",
              "    }\n",
              "\n",
              "    .colab-df-convert {\n",
              "      background-color: #E8F0FE;\n",
              "      border: none;\n",
              "      border-radius: 50%;\n",
              "      cursor: pointer;\n",
              "      display: none;\n",
              "      fill: #1967D2;\n",
              "      height: 32px;\n",
              "      padding: 0 0 0 0;\n",
              "      width: 32px;\n",
              "    }\n",
              "\n",
              "    .colab-df-convert:hover {\n",
              "      background-color: #E2EBFA;\n",
              "      box-shadow: 0px 1px 2px rgba(60, 64, 67, 0.3), 0px 1px 3px 1px rgba(60, 64, 67, 0.15);\n",
              "      fill: #174EA6;\n",
              "    }\n",
              "\n",
              "    [theme=dark] .colab-df-convert {\n",
              "      background-color: #3B4455;\n",
              "      fill: #D2E3FC;\n",
              "    }\n",
              "\n",
              "    [theme=dark] .colab-df-convert:hover {\n",
              "      background-color: #434B5C;\n",
              "      box-shadow: 0px 1px 3px 1px rgba(0, 0, 0, 0.15);\n",
              "      filter: drop-shadow(0px 1px 2px rgba(0, 0, 0, 0.3));\n",
              "      fill: #FFFFFF;\n",
              "    }\n",
              "  </style>\n",
              "\n",
              "      <script>\n",
              "        const buttonEl =\n",
              "          document.querySelector('#df-50105bf7-bc42-4c66-b3f7-9fbe49c4b6fa button.colab-df-convert');\n",
              "        buttonEl.style.display =\n",
              "          google.colab.kernel.accessAllowed ? 'block' : 'none';\n",
              "\n",
              "        async function convertToInteractive(key) {\n",
              "          const element = document.querySelector('#df-50105bf7-bc42-4c66-b3f7-9fbe49c4b6fa');\n",
              "          const dataTable =\n",
              "            await google.colab.kernel.invokeFunction('convertToInteractive',\n",
              "                                                     [key], {});\n",
              "          if (!dataTable) return;\n",
              "\n",
              "          const docLinkHtml = 'Like what you see? Visit the ' +\n",
              "            '<a target=\"_blank\" href=https://colab.research.google.com/notebooks/data_table.ipynb>data table notebook</a>'\n",
              "            + ' to learn more about interactive tables.';\n",
              "          element.innerHTML = '';\n",
              "          dataTable['output_type'] = 'display_data';\n",
              "          await google.colab.output.renderOutput(dataTable, element);\n",
              "          const docLink = document.createElement('div');\n",
              "          docLink.innerHTML = docLinkHtml;\n",
              "          element.appendChild(docLink);\n",
              "        }\n",
              "      </script>\n",
              "    </div>\n",
              "  </div>\n",
              "  "
            ]
          },
          "metadata": {},
          "execution_count": 4
        }
      ]
    },
    {
      "cell_type": "code",
      "source": [
        "data['Target'].sum()/len(data)"
      ],
      "metadata": {
        "colab": {
          "base_uri": "https://localhost:8080/"
        },
        "id": "72Cijp7_u7mp",
        "outputId": "36bd6fcc-6b4e-4e85-f38f-4c7955144f2e"
      },
      "execution_count": 5,
      "outputs": [
        {
          "output_type": "execute_result",
          "data": {
            "text/plain": [
              "0.321"
            ]
          },
          "metadata": {},
          "execution_count": 5
        }
      ]
    },
    {
      "cell_type": "code",
      "source": [
        "X=data.drop('Target',axis=1)\n",
        "y=data['Target']"
      ],
      "metadata": {
        "id": "2f4-7v8q93VM"
      },
      "execution_count": 6,
      "outputs": []
    },
    {
      "cell_type": "markdown",
      "source": [
        "When you split your data into training and test sets, set random_state = 5. (2 points)"
      ],
      "metadata": {
        "id": "MwS8OkkmH4N5"
      }
    },
    {
      "cell_type": "code",
      "source": [
        "X_train, X_test, y_train, y_test = train_test_split(X,y,test_size=0.3, random_state=5)"
      ],
      "metadata": {
        "id": "WuzLZUvPvpDz"
      },
      "execution_count": 7,
      "outputs": []
    },
    {
      "cell_type": "code",
      "source": [
        "print(sum(y_train)/len(y_train),\":\",sum(y_test)/len(y_test))"
      ],
      "metadata": {
        "colab": {
          "base_uri": "https://localhost:8080/"
        },
        "id": "eBRMaD9k96no",
        "outputId": "1f6db109-bfe6-4785-b7ad-06e64a155d02"
      },
      "execution_count": 8,
      "outputs": [
        {
          "output_type": "stream",
          "name": "stdout",
          "text": [
            "0.3157142857142857 : 0.3333333333333333\n"
          ]
        }
      ]
    },
    {
      "cell_type": "markdown",
      "source": [
        "Try a random forest (use random_state = 5 and 400 trees), a boosting classifier (use n_estimators = 300, learning rate =0.1, and max_depth =3), and a logistic regression classifier. (9 points: 3 for each classifier)\n",
        "\n",
        "\n"
      ],
      "metadata": {
        "id": "hIh9C8tVIAD9"
      }
    },
    {
      "cell_type": "code",
      "source": [
        "logreg=LogisticRegression().fit(X_train,y_train)"
      ],
      "metadata": {
        "id": "cYgSVVBwCpXY"
      },
      "execution_count": 9,
      "outputs": []
    },
    {
      "cell_type": "code",
      "source": [
        "logreg.score(X_test,y_test)"
      ],
      "metadata": {
        "colab": {
          "base_uri": "https://localhost:8080/"
        },
        "id": "8xxqh4TSHfwB",
        "outputId": "9bf5e9ed-ce1a-4e9e-c3b7-4c4164a4e4a3"
      },
      "execution_count": 10,
      "outputs": [
        {
          "output_type": "execute_result",
          "data": {
            "text/plain": [
              "0.6833333333333333"
            ]
          },
          "metadata": {},
          "execution_count": 10
        }
      ]
    },
    {
      "cell_type": "code",
      "source": [
        "pd.crosstab(y_test,logreg.predict(X_test))"
      ],
      "metadata": {
        "colab": {
          "base_uri": "https://localhost:8080/",
          "height": 143
        },
        "id": "7wfMsYhbI9lO",
        "outputId": "e4635829-d284-4bc0-9a13-88da9d1f3544"
      },
      "execution_count": 11,
      "outputs": [
        {
          "output_type": "execute_result",
          "data": {
            "text/plain": [
              "col_0     0   1\n",
              "Target         \n",
              "0       194   6\n",
              "1        89  11"
            ],
            "text/html": [
              "\n",
              "  <div id=\"df-b927c781-e0b4-480d-9392-2130abf895a4\">\n",
              "    <div class=\"colab-df-container\">\n",
              "      <div>\n",
              "<style scoped>\n",
              "    .dataframe tbody tr th:only-of-type {\n",
              "        vertical-align: middle;\n",
              "    }\n",
              "\n",
              "    .dataframe tbody tr th {\n",
              "        vertical-align: top;\n",
              "    }\n",
              "\n",
              "    .dataframe thead th {\n",
              "        text-align: right;\n",
              "    }\n",
              "</style>\n",
              "<table border=\"1\" class=\"dataframe\">\n",
              "  <thead>\n",
              "    <tr style=\"text-align: right;\">\n",
              "      <th>col_0</th>\n",
              "      <th>0</th>\n",
              "      <th>1</th>\n",
              "    </tr>\n",
              "    <tr>\n",
              "      <th>Target</th>\n",
              "      <th></th>\n",
              "      <th></th>\n",
              "    </tr>\n",
              "  </thead>\n",
              "  <tbody>\n",
              "    <tr>\n",
              "      <th>0</th>\n",
              "      <td>194</td>\n",
              "      <td>6</td>\n",
              "    </tr>\n",
              "    <tr>\n",
              "      <th>1</th>\n",
              "      <td>89</td>\n",
              "      <td>11</td>\n",
              "    </tr>\n",
              "  </tbody>\n",
              "</table>\n",
              "</div>\n",
              "      <button class=\"colab-df-convert\" onclick=\"convertToInteractive('df-b927c781-e0b4-480d-9392-2130abf895a4')\"\n",
              "              title=\"Convert this dataframe to an interactive table.\"\n",
              "              style=\"display:none;\">\n",
              "        \n",
              "  <svg xmlns=\"http://www.w3.org/2000/svg\" height=\"24px\"viewBox=\"0 0 24 24\"\n",
              "       width=\"24px\">\n",
              "    <path d=\"M0 0h24v24H0V0z\" fill=\"none\"/>\n",
              "    <path d=\"M18.56 5.44l.94 2.06.94-2.06 2.06-.94-2.06-.94-.94-2.06-.94 2.06-2.06.94zm-11 1L8.5 8.5l.94-2.06 2.06-.94-2.06-.94L8.5 2.5l-.94 2.06-2.06.94zm10 10l.94 2.06.94-2.06 2.06-.94-2.06-.94-.94-2.06-.94 2.06-2.06.94z\"/><path d=\"M17.41 7.96l-1.37-1.37c-.4-.4-.92-.59-1.43-.59-.52 0-1.04.2-1.43.59L10.3 9.45l-7.72 7.72c-.78.78-.78 2.05 0 2.83L4 21.41c.39.39.9.59 1.41.59.51 0 1.02-.2 1.41-.59l7.78-7.78 2.81-2.81c.8-.78.8-2.07 0-2.86zM5.41 20L4 18.59l7.72-7.72 1.47 1.35L5.41 20z\"/>\n",
              "  </svg>\n",
              "      </button>\n",
              "      \n",
              "  <style>\n",
              "    .colab-df-container {\n",
              "      display:flex;\n",
              "      flex-wrap:wrap;\n",
              "      gap: 12px;\n",
              "    }\n",
              "\n",
              "    .colab-df-convert {\n",
              "      background-color: #E8F0FE;\n",
              "      border: none;\n",
              "      border-radius: 50%;\n",
              "      cursor: pointer;\n",
              "      display: none;\n",
              "      fill: #1967D2;\n",
              "      height: 32px;\n",
              "      padding: 0 0 0 0;\n",
              "      width: 32px;\n",
              "    }\n",
              "\n",
              "    .colab-df-convert:hover {\n",
              "      background-color: #E2EBFA;\n",
              "      box-shadow: 0px 1px 2px rgba(60, 64, 67, 0.3), 0px 1px 3px 1px rgba(60, 64, 67, 0.15);\n",
              "      fill: #174EA6;\n",
              "    }\n",
              "\n",
              "    [theme=dark] .colab-df-convert {\n",
              "      background-color: #3B4455;\n",
              "      fill: #D2E3FC;\n",
              "    }\n",
              "\n",
              "    [theme=dark] .colab-df-convert:hover {\n",
              "      background-color: #434B5C;\n",
              "      box-shadow: 0px 1px 3px 1px rgba(0, 0, 0, 0.15);\n",
              "      filter: drop-shadow(0px 1px 2px rgba(0, 0, 0, 0.3));\n",
              "      fill: #FFFFFF;\n",
              "    }\n",
              "  </style>\n",
              "\n",
              "      <script>\n",
              "        const buttonEl =\n",
              "          document.querySelector('#df-b927c781-e0b4-480d-9392-2130abf895a4 button.colab-df-convert');\n",
              "        buttonEl.style.display =\n",
              "          google.colab.kernel.accessAllowed ? 'block' : 'none';\n",
              "\n",
              "        async function convertToInteractive(key) {\n",
              "          const element = document.querySelector('#df-b927c781-e0b4-480d-9392-2130abf895a4');\n",
              "          const dataTable =\n",
              "            await google.colab.kernel.invokeFunction('convertToInteractive',\n",
              "                                                     [key], {});\n",
              "          if (!dataTable) return;\n",
              "\n",
              "          const docLinkHtml = 'Like what you see? Visit the ' +\n",
              "            '<a target=\"_blank\" href=https://colab.research.google.com/notebooks/data_table.ipynb>data table notebook</a>'\n",
              "            + ' to learn more about interactive tables.';\n",
              "          element.innerHTML = '';\n",
              "          dataTable['output_type'] = 'display_data';\n",
              "          await google.colab.output.renderOutput(dataTable, element);\n",
              "          const docLink = document.createElement('div');\n",
              "          docLink.innerHTML = docLinkHtml;\n",
              "          element.appendChild(docLink);\n",
              "        }\n",
              "      </script>\n",
              "    </div>\n",
              "  </div>\n",
              "  "
            ]
          },
          "metadata": {},
          "execution_count": 11
        }
      ]
    },
    {
      "cell_type": "code",
      "source": [
        "rf = RandomForestClassifier(n_estimators=400,max_features='sqrt',random_state=5).fit(X_train,y_train)"
      ],
      "metadata": {
        "id": "b6KIuXBfI-O5"
      },
      "execution_count": 12,
      "outputs": []
    },
    {
      "cell_type": "code",
      "source": [
        "accuracy_score(rf.predict(X_test),y_test)"
      ],
      "metadata": {
        "colab": {
          "base_uri": "https://localhost:8080/"
        },
        "id": "LkT1ndnGJFdS",
        "outputId": "8d5a3e09-e5e7-46ac-e671-eae1a97629fd"
      },
      "execution_count": 13,
      "outputs": [
        {
          "output_type": "execute_result",
          "data": {
            "text/plain": [
              "0.7766666666666666"
            ]
          },
          "metadata": {},
          "execution_count": 13
        }
      ]
    },
    {
      "cell_type": "code",
      "source": [
        "pd.crosstab(y_test,rf.predict(X_test),rownames=['True'], colnames=['Predicted'])"
      ],
      "metadata": {
        "colab": {
          "base_uri": "https://localhost:8080/",
          "height": 143
        },
        "id": "9zuvh4WhJIk8",
        "outputId": "d2f2cac6-fed0-4e05-d8c8-84951e3946d0"
      },
      "execution_count": 14,
      "outputs": [
        {
          "output_type": "execute_result",
          "data": {
            "text/plain": [
              "Predicted    0   1\n",
              "True              \n",
              "0          190  10\n",
              "1           57  43"
            ],
            "text/html": [
              "\n",
              "  <div id=\"df-b27221f0-b6d0-4df2-8add-3bb77e4f24ec\">\n",
              "    <div class=\"colab-df-container\">\n",
              "      <div>\n",
              "<style scoped>\n",
              "    .dataframe tbody tr th:only-of-type {\n",
              "        vertical-align: middle;\n",
              "    }\n",
              "\n",
              "    .dataframe tbody tr th {\n",
              "        vertical-align: top;\n",
              "    }\n",
              "\n",
              "    .dataframe thead th {\n",
              "        text-align: right;\n",
              "    }\n",
              "</style>\n",
              "<table border=\"1\" class=\"dataframe\">\n",
              "  <thead>\n",
              "    <tr style=\"text-align: right;\">\n",
              "      <th>Predicted</th>\n",
              "      <th>0</th>\n",
              "      <th>1</th>\n",
              "    </tr>\n",
              "    <tr>\n",
              "      <th>True</th>\n",
              "      <th></th>\n",
              "      <th></th>\n",
              "    </tr>\n",
              "  </thead>\n",
              "  <tbody>\n",
              "    <tr>\n",
              "      <th>0</th>\n",
              "      <td>190</td>\n",
              "      <td>10</td>\n",
              "    </tr>\n",
              "    <tr>\n",
              "      <th>1</th>\n",
              "      <td>57</td>\n",
              "      <td>43</td>\n",
              "    </tr>\n",
              "  </tbody>\n",
              "</table>\n",
              "</div>\n",
              "      <button class=\"colab-df-convert\" onclick=\"convertToInteractive('df-b27221f0-b6d0-4df2-8add-3bb77e4f24ec')\"\n",
              "              title=\"Convert this dataframe to an interactive table.\"\n",
              "              style=\"display:none;\">\n",
              "        \n",
              "  <svg xmlns=\"http://www.w3.org/2000/svg\" height=\"24px\"viewBox=\"0 0 24 24\"\n",
              "       width=\"24px\">\n",
              "    <path d=\"M0 0h24v24H0V0z\" fill=\"none\"/>\n",
              "    <path d=\"M18.56 5.44l.94 2.06.94-2.06 2.06-.94-2.06-.94-.94-2.06-.94 2.06-2.06.94zm-11 1L8.5 8.5l.94-2.06 2.06-.94-2.06-.94L8.5 2.5l-.94 2.06-2.06.94zm10 10l.94 2.06.94-2.06 2.06-.94-2.06-.94-.94-2.06-.94 2.06-2.06.94z\"/><path d=\"M17.41 7.96l-1.37-1.37c-.4-.4-.92-.59-1.43-.59-.52 0-1.04.2-1.43.59L10.3 9.45l-7.72 7.72c-.78.78-.78 2.05 0 2.83L4 21.41c.39.39.9.59 1.41.59.51 0 1.02-.2 1.41-.59l7.78-7.78 2.81-2.81c.8-.78.8-2.07 0-2.86zM5.41 20L4 18.59l7.72-7.72 1.47 1.35L5.41 20z\"/>\n",
              "  </svg>\n",
              "      </button>\n",
              "      \n",
              "  <style>\n",
              "    .colab-df-container {\n",
              "      display:flex;\n",
              "      flex-wrap:wrap;\n",
              "      gap: 12px;\n",
              "    }\n",
              "\n",
              "    .colab-df-convert {\n",
              "      background-color: #E8F0FE;\n",
              "      border: none;\n",
              "      border-radius: 50%;\n",
              "      cursor: pointer;\n",
              "      display: none;\n",
              "      fill: #1967D2;\n",
              "      height: 32px;\n",
              "      padding: 0 0 0 0;\n",
              "      width: 32px;\n",
              "    }\n",
              "\n",
              "    .colab-df-convert:hover {\n",
              "      background-color: #E2EBFA;\n",
              "      box-shadow: 0px 1px 2px rgba(60, 64, 67, 0.3), 0px 1px 3px 1px rgba(60, 64, 67, 0.15);\n",
              "      fill: #174EA6;\n",
              "    }\n",
              "\n",
              "    [theme=dark] .colab-df-convert {\n",
              "      background-color: #3B4455;\n",
              "      fill: #D2E3FC;\n",
              "    }\n",
              "\n",
              "    [theme=dark] .colab-df-convert:hover {\n",
              "      background-color: #434B5C;\n",
              "      box-shadow: 0px 1px 3px 1px rgba(0, 0, 0, 0.15);\n",
              "      filter: drop-shadow(0px 1px 2px rgba(0, 0, 0, 0.3));\n",
              "      fill: #FFFFFF;\n",
              "    }\n",
              "  </style>\n",
              "\n",
              "      <script>\n",
              "        const buttonEl =\n",
              "          document.querySelector('#df-b27221f0-b6d0-4df2-8add-3bb77e4f24ec button.colab-df-convert');\n",
              "        buttonEl.style.display =\n",
              "          google.colab.kernel.accessAllowed ? 'block' : 'none';\n",
              "\n",
              "        async function convertToInteractive(key) {\n",
              "          const element = document.querySelector('#df-b27221f0-b6d0-4df2-8add-3bb77e4f24ec');\n",
              "          const dataTable =\n",
              "            await google.colab.kernel.invokeFunction('convertToInteractive',\n",
              "                                                     [key], {});\n",
              "          if (!dataTable) return;\n",
              "\n",
              "          const docLinkHtml = 'Like what you see? Visit the ' +\n",
              "            '<a target=\"_blank\" href=https://colab.research.google.com/notebooks/data_table.ipynb>data table notebook</a>'\n",
              "            + ' to learn more about interactive tables.';\n",
              "          element.innerHTML = '';\n",
              "          dataTable['output_type'] = 'display_data';\n",
              "          await google.colab.output.renderOutput(dataTable, element);\n",
              "          const docLink = document.createElement('div');\n",
              "          docLink.innerHTML = docLinkHtml;\n",
              "          element.appendChild(docLink);\n",
              "        }\n",
              "      </script>\n",
              "    </div>\n",
              "  </div>\n",
              "  "
            ]
          },
          "metadata": {},
          "execution_count": 14
        }
      ]
    },
    {
      "cell_type": "code",
      "source": [
        "digit_boost = GradientBoostingClassifier(n_estimators=300, learning_rate=0.1,max_depth=3, random_state=5).fit(X_train, y_train)"
      ],
      "metadata": {
        "id": "BJtM-wCPJSDQ"
      },
      "execution_count": 15,
      "outputs": []
    },
    {
      "cell_type": "code",
      "source": [
        "accuracy_score(digit_boost.predict(X_test),y_test)\n"
      ],
      "metadata": {
        "colab": {
          "base_uri": "https://localhost:8080/"
        },
        "id": "hB3rULkZOkF7",
        "outputId": "6eb20e0c-8f22-4f70-89c6-89dc89baacb3"
      },
      "execution_count": 16,
      "outputs": [
        {
          "output_type": "execute_result",
          "data": {
            "text/plain": [
              "0.7566666666666667"
            ]
          },
          "metadata": {},
          "execution_count": 16
        }
      ]
    },
    {
      "cell_type": "code",
      "source": [
        "pd.crosstab(y_test,digit_boost.predict(X_test))"
      ],
      "metadata": {
        "colab": {
          "base_uri": "https://localhost:8080/",
          "height": 143
        },
        "id": "6yH2av7jBkYe",
        "outputId": "5d88d2d1-b002-42af-da28-bd10bfcefd2d"
      },
      "execution_count": 17,
      "outputs": [
        {
          "output_type": "execute_result",
          "data": {
            "text/plain": [
              "col_0     0   1\n",
              "Target         \n",
              "0       181  19\n",
              "1        54  46"
            ],
            "text/html": [
              "\n",
              "  <div id=\"df-17b19484-2f03-4b67-9a46-b4b7e37da57e\">\n",
              "    <div class=\"colab-df-container\">\n",
              "      <div>\n",
              "<style scoped>\n",
              "    .dataframe tbody tr th:only-of-type {\n",
              "        vertical-align: middle;\n",
              "    }\n",
              "\n",
              "    .dataframe tbody tr th {\n",
              "        vertical-align: top;\n",
              "    }\n",
              "\n",
              "    .dataframe thead th {\n",
              "        text-align: right;\n",
              "    }\n",
              "</style>\n",
              "<table border=\"1\" class=\"dataframe\">\n",
              "  <thead>\n",
              "    <tr style=\"text-align: right;\">\n",
              "      <th>col_0</th>\n",
              "      <th>0</th>\n",
              "      <th>1</th>\n",
              "    </tr>\n",
              "    <tr>\n",
              "      <th>Target</th>\n",
              "      <th></th>\n",
              "      <th></th>\n",
              "    </tr>\n",
              "  </thead>\n",
              "  <tbody>\n",
              "    <tr>\n",
              "      <th>0</th>\n",
              "      <td>181</td>\n",
              "      <td>19</td>\n",
              "    </tr>\n",
              "    <tr>\n",
              "      <th>1</th>\n",
              "      <td>54</td>\n",
              "      <td>46</td>\n",
              "    </tr>\n",
              "  </tbody>\n",
              "</table>\n",
              "</div>\n",
              "      <button class=\"colab-df-convert\" onclick=\"convertToInteractive('df-17b19484-2f03-4b67-9a46-b4b7e37da57e')\"\n",
              "              title=\"Convert this dataframe to an interactive table.\"\n",
              "              style=\"display:none;\">\n",
              "        \n",
              "  <svg xmlns=\"http://www.w3.org/2000/svg\" height=\"24px\"viewBox=\"0 0 24 24\"\n",
              "       width=\"24px\">\n",
              "    <path d=\"M0 0h24v24H0V0z\" fill=\"none\"/>\n",
              "    <path d=\"M18.56 5.44l.94 2.06.94-2.06 2.06-.94-2.06-.94-.94-2.06-.94 2.06-2.06.94zm-11 1L8.5 8.5l.94-2.06 2.06-.94-2.06-.94L8.5 2.5l-.94 2.06-2.06.94zm10 10l.94 2.06.94-2.06 2.06-.94-2.06-.94-.94-2.06-.94 2.06-2.06.94z\"/><path d=\"M17.41 7.96l-1.37-1.37c-.4-.4-.92-.59-1.43-.59-.52 0-1.04.2-1.43.59L10.3 9.45l-7.72 7.72c-.78.78-.78 2.05 0 2.83L4 21.41c.39.39.9.59 1.41.59.51 0 1.02-.2 1.41-.59l7.78-7.78 2.81-2.81c.8-.78.8-2.07 0-2.86zM5.41 20L4 18.59l7.72-7.72 1.47 1.35L5.41 20z\"/>\n",
              "  </svg>\n",
              "      </button>\n",
              "      \n",
              "  <style>\n",
              "    .colab-df-container {\n",
              "      display:flex;\n",
              "      flex-wrap:wrap;\n",
              "      gap: 12px;\n",
              "    }\n",
              "\n",
              "    .colab-df-convert {\n",
              "      background-color: #E8F0FE;\n",
              "      border: none;\n",
              "      border-radius: 50%;\n",
              "      cursor: pointer;\n",
              "      display: none;\n",
              "      fill: #1967D2;\n",
              "      height: 32px;\n",
              "      padding: 0 0 0 0;\n",
              "      width: 32px;\n",
              "    }\n",
              "\n",
              "    .colab-df-convert:hover {\n",
              "      background-color: #E2EBFA;\n",
              "      box-shadow: 0px 1px 2px rgba(60, 64, 67, 0.3), 0px 1px 3px 1px rgba(60, 64, 67, 0.15);\n",
              "      fill: #174EA6;\n",
              "    }\n",
              "\n",
              "    [theme=dark] .colab-df-convert {\n",
              "      background-color: #3B4455;\n",
              "      fill: #D2E3FC;\n",
              "    }\n",
              "\n",
              "    [theme=dark] .colab-df-convert:hover {\n",
              "      background-color: #434B5C;\n",
              "      box-shadow: 0px 1px 3px 1px rgba(0, 0, 0, 0.15);\n",
              "      filter: drop-shadow(0px 1px 2px rgba(0, 0, 0, 0.3));\n",
              "      fill: #FFFFFF;\n",
              "    }\n",
              "  </style>\n",
              "\n",
              "      <script>\n",
              "        const buttonEl =\n",
              "          document.querySelector('#df-17b19484-2f03-4b67-9a46-b4b7e37da57e button.colab-df-convert');\n",
              "        buttonEl.style.display =\n",
              "          google.colab.kernel.accessAllowed ? 'block' : 'none';\n",
              "\n",
              "        async function convertToInteractive(key) {\n",
              "          const element = document.querySelector('#df-17b19484-2f03-4b67-9a46-b4b7e37da57e');\n",
              "          const dataTable =\n",
              "            await google.colab.kernel.invokeFunction('convertToInteractive',\n",
              "                                                     [key], {});\n",
              "          if (!dataTable) return;\n",
              "\n",
              "          const docLinkHtml = 'Like what you see? Visit the ' +\n",
              "            '<a target=\"_blank\" href=https://colab.research.google.com/notebooks/data_table.ipynb>data table notebook</a>'\n",
              "            + ' to learn more about interactive tables.';\n",
              "          element.innerHTML = '';\n",
              "          dataTable['output_type'] = 'display_data';\n",
              "          await google.colab.output.renderOutput(dataTable, element);\n",
              "          const docLink = document.createElement('div');\n",
              "          docLink.innerHTML = docLinkHtml;\n",
              "          element.appendChild(docLink);\n",
              "        }\n",
              "      </script>\n",
              "    </div>\n",
              "  </div>\n",
              "  "
            ]
          },
          "metadata": {},
          "execution_count": 17
        }
      ]
    },
    {
      "cell_type": "markdown",
      "source": [
        "Which is best? How can you tell? (6 points)"
      ],
      "metadata": {
        "id": "PxD-oa_FD6PD"
      }
    },
    {
      "cell_type": "markdown",
      "source": [
        "Here the random forest is better than other models. Random Forest trains and treats each tree independently it also considers randomisation ie it uses a randomly sampled data. This further helps to make the model better and robust compared to the other models and does not overfit the traning data. \n"
      ],
      "metadata": {
        "id": "HJbElfM1Fh6W"
      }
    },
    {
      "cell_type": "markdown",
      "source": [
        "Comment on the precision, recall, and accuracy of your model. (3 points)"
      ],
      "metadata": {
        "id": "8r3xFPM0CDxt"
      }
    },
    {
      "cell_type": "code",
      "source": [
        "from sklearn.metrics import classification_report"
      ],
      "metadata": {
        "id": "X8QRK_CMN2e2"
      },
      "execution_count": 18,
      "outputs": []
    },
    {
      "cell_type": "code",
      "source": [
        "print(classification_report(y_test,digit_boost.predict(X_test)))"
      ],
      "metadata": {
        "colab": {
          "base_uri": "https://localhost:8080/"
        },
        "id": "HVaMeuIfBpAA",
        "outputId": "6e4fe37e-357c-4f3f-9cd8-5e8378bd670a"
      },
      "execution_count": 19,
      "outputs": [
        {
          "output_type": "stream",
          "name": "stdout",
          "text": [
            "              precision    recall  f1-score   support\n",
            "\n",
            "           0       0.77      0.91      0.83       200\n",
            "           1       0.71      0.46      0.56       100\n",
            "\n",
            "    accuracy                           0.76       300\n",
            "   macro avg       0.74      0.68      0.69       300\n",
            "weighted avg       0.75      0.76      0.74       300\n",
            "\n"
          ]
        }
      ]
    },
    {
      "cell_type": "code",
      "source": [
        "print(classification_report(y_test,logreg.predict(X_test)))"
      ],
      "metadata": {
        "id": "opw7KAq-CURW",
        "colab": {
          "base_uri": "https://localhost:8080/"
        },
        "outputId": "30ae21a5-99e0-4b54-dc6b-945aace0dbcf"
      },
      "execution_count": 20,
      "outputs": [
        {
          "output_type": "stream",
          "name": "stdout",
          "text": [
            "              precision    recall  f1-score   support\n",
            "\n",
            "           0       0.69      0.97      0.80       200\n",
            "           1       0.65      0.11      0.19       100\n",
            "\n",
            "    accuracy                           0.68       300\n",
            "   macro avg       0.67      0.54      0.50       300\n",
            "weighted avg       0.67      0.68      0.60       300\n",
            "\n"
          ]
        }
      ]
    },
    {
      "cell_type": "code",
      "source": [
        "print(classification_report(y_test,rf.predict(X_test)))"
      ],
      "metadata": {
        "colab": {
          "base_uri": "https://localhost:8080/"
        },
        "id": "KXaoAk9zR-FX",
        "outputId": "537240c2-fa0f-461b-fdbf-2e79145a5281"
      },
      "execution_count": 21,
      "outputs": [
        {
          "output_type": "stream",
          "name": "stdout",
          "text": [
            "              precision    recall  f1-score   support\n",
            "\n",
            "           0       0.77      0.95      0.85       200\n",
            "           1       0.81      0.43      0.56       100\n",
            "\n",
            "    accuracy                           0.78       300\n",
            "   macro avg       0.79      0.69      0.71       300\n",
            "weighted avg       0.78      0.78      0.75       300\n",
            "\n"
          ]
        }
      ]
    },
    {
      "cell_type": "markdown",
      "source": [
        "The Random forest model has the highest accuracy of 0.78, higest precision 0.77 and highest recall 0.95.\n",
        "The recall for all the three model is high and the precision is low. High recall, low precision. Our classifier casts a very wide net, catches not only a lot of true positves, but also a lot of other things. Our classifier considers a lot of things as true positive but a lot of them were not true positive."
      ],
      "metadata": {
        "id": "6TyWQjDzvmAO"
      }
    }
  ]
}